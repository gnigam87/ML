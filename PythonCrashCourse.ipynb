{
  "nbformat": 4,
  "nbformat_minor": 0,
  "metadata": {
    "colab": {
      "provenance": [],
      "collapsed_sections": [
        "0iwYvX4qukVQ",
        "DxDpH-Vy1m0B",
        "D1a1ndr57ylU",
        "ovwLc4lR9O4v",
        "yk4edCICYGzD",
        "cBWnQxq-doy8",
        "O2QIr9LYwrhY",
        "TenDHhElxvh8",
        "irT6dsAqAfrE",
        "6hU47XqhfJIz",
        "HfT_gHi4Cmpv",
        "89-nh1hWChcS",
        "4zjuXVNz9uky",
        "Sl5qiuMUASlR",
        "2YzZqqrTCT2q",
        "kwU0J0nUFZ1G",
        "owI9gutiWP-V",
        "XVFMw6pnN5J5",
        "DEwtJvxpS_Dd",
        "sRPWM0zPN9ez"
      ],
      "toc_visible": true
    },
    "kernelspec": {
      "name": "python3",
      "display_name": "Python 3"
    },
    "language_info": {
      "name": "python"
    }
  },
  "cells": [
    {
      "cell_type": "markdown",
      "source": [
        "\n",
        "\n",
        "*   **Interpreter:** Reads the code **line by line** and converts it to Machine\n",
        "language and execute it. Usually, python uses interpreter.\n",
        "*   **Compiler**: Reads the **entire code** and converts it to Machine language and then execute it.\n",
        "\n"
      ],
      "metadata": {
        "id": "rPpybz40CZDv"
      }
    },
    {
      "cell_type": "markdown",
      "source": [
        "**Python Interpreter**: python.org provides python interpreter written in C, called cpython which is most widely used. But there are other interpreters available:\n",
        "\n",
        "\n",
        "*   Jython: written in Java\n",
        "*   PyPy: written in python\n",
        "*   IronPython: written for .Net framework\n",
        "\n"
      ],
      "metadata": {
        "id": "uDJhKno_EX6y"
      }
    },
    {
      "cell_type": "markdown",
      "source": [
        "Python Code -> cpython Interpreter -> Byte Code which runs on cpython VM which runs on device (phone/laptop)\n",
        "\n",
        "**Code Editors**: sublime, Xcode\n",
        "\n",
        "**IDEs**: Pycharm, Spyder\n",
        "\n",
        "**Online IDEs**: repl.it, glot.io\n"
      ],
      "metadata": {
        "id": "7urExTtdGAJa"
      }
    },
    {
      "cell_type": "markdown",
      "source": [
        "**Python History**\n",
        "\n",
        "Created by Guido Van Rossum in 1991.\n",
        "\n",
        "In 2008, python 3 was created.\n",
        "\n"
      ],
      "metadata": {
        "id": "aOL7k--CpCaV"
      }
    },
    {
      "cell_type": "markdown",
      "source": [
        "python is slower than C, C# and sometimes even Java. But it's good for developer productivity becasue of closeness to English language. So, you probably won't use this for Android/iOS Apps."
      ],
      "metadata": {
        "id": "MRXs9pG3q42C"
      }
    },
    {
      "cell_type": "markdown",
      "source": [
        "**Fundamental Data Types:**\n",
        "\n",
        "\n",
        "* int\n",
        "* float\n",
        "* complex\n",
        "* bool\n",
        "* str\n",
        "* list\n",
        "* tuple\n",
        "* set\n",
        "* dict\n",
        "\n",
        "**Custom Data Types:** Classes\n",
        "\n",
        "**Specialized Data Types:** Modules, Iterators\n",
        "\n",
        "**None**\n",
        "\n",
        "\n"
      ],
      "metadata": {
        "id": "wRtDjy9Jr_A8"
      }
    },
    {
      "cell_type": "markdown",
      "source": [
        "#Numbers"
      ],
      "metadata": {
        "id": "0iwYvX4qukVQ"
      }
    },
    {
      "cell_type": "code",
      "execution_count": null,
      "metadata": {
        "id": "SJ_wtLSrCMks"
      },
      "outputs": [],
      "source": [
        "type(1)   # int\n",
        "type(-10) # int\n",
        "type(0)   # int\n",
        "type(0.0) # float\n",
        "type(2.2) # float\n",
        "type(4E2) # float - 4*10 to the power of 2"
      ]
    },
    {
      "cell_type": "code",
      "source": [
        "# Arithmetic\n",
        "10 + 3  # 13\n",
        "10 - 3  # 7\n",
        "10 * 3  # 30\n",
        "10 ** 3 # 1000\n",
        "10 / 3  # 3.3333333333333335\n",
        "10 // 3 # 3 --> floor division - no decimals and returns an int\n",
        "10 % 3  # 1 --> modulo operator - return the reminder. Good for deciding if number is even or odd"
      ],
      "metadata": {
        "colab": {
          "base_uri": "https://localhost:8080/"
        },
        "id": "7wTIeTjrutmk",
        "outputId": "c25b6c0c-af58-4f0e-c026-cfe0b4427aa5"
      },
      "execution_count": 3,
      "outputs": [
        {
          "output_type": "execute_result",
          "data": {
            "text/plain": [
              "1"
            ]
          },
          "metadata": {},
          "execution_count": 3
        }
      ]
    },
    {
      "cell_type": "code",
      "source": [
        "# Basic Functions\n",
        "pow(5, 2)      # 25 --> like doing 5**2\n",
        "abs(-50)       # 50\n",
        "round(5.46)    # 5\n",
        "round(5.468, 2)# 5.47 --> round to nth digit\n",
        "bin(512)       # '0b1000000000' -->  binary format\n",
        "hex(512)       # '0x200' --> hexadecimal format\n",
        "print(int('0x200',16))"
      ],
      "metadata": {
        "colab": {
          "base_uri": "https://localhost:8080/"
        },
        "id": "Ji8m_bonuzah",
        "outputId": "fe9fabd8-7cde-4dd4-de5f-da72bdd14755"
      },
      "execution_count": 4,
      "outputs": [
        {
          "output_type": "stream",
          "name": "stdout",
          "text": [
            "512\n"
          ]
        }
      ]
    },
    {
      "cell_type": "markdown",
      "source": [
        "# Variables\n",
        "\n",
        "General Convention:\n",
        "* Use lowercase for variable name and use _ for spaces. e.g. user_iq\n",
        "* Use UPPERCASE for constants. e.g. PI = 3.14\n",
        "* Don't override python keywords\n",
        "* Don't start the name with __\n"
      ],
      "metadata": {
        "id": "DxDpH-Vy1m0B"
      }
    },
    {
      "cell_type": "code",
      "source": [
        "a,b,c = 1,2,3\n",
        "print(a)"
      ],
      "metadata": {
        "colab": {
          "base_uri": "https://localhost:8080/"
        },
        "id": "yOwS5lKo1rB6",
        "outputId": "865b68d9-464d-42ce-a294-d0f1029312d3"
      },
      "execution_count": 6,
      "outputs": [
        {
          "output_type": "stream",
          "name": "stdout",
          "text": [
            "1\n"
          ]
        }
      ]
    },
    {
      "cell_type": "code",
      "source": [
        "4a = 5 # Raises error --> variable name cannot start with number"
      ],
      "metadata": {
        "colab": {
          "base_uri": "https://localhost:8080/",
          "height": 143
        },
        "id": "HuyJwIGyFrk7",
        "outputId": "e8b0749a-fbba-4cbc-cf35-1045054c6ef6"
      },
      "execution_count": 16,
      "outputs": [
        {
          "output_type": "error",
          "ename": "SyntaxError",
          "evalue": "ignored",
          "traceback": [
            "\u001b[0;36m  File \u001b[0;32m\"<ipython-input-16-d3d6671f8134>\"\u001b[0;36m, line \u001b[0;32m1\u001b[0m\n\u001b[0;31m    4a = 5\u001b[0m\n\u001b[0m    ^\u001b[0m\n\u001b[0;31mSyntaxError\u001b[0m\u001b[0;31m:\u001b[0m invalid decimal literal\n"
          ]
        }
      ]
    },
    {
      "cell_type": "markdown",
      "source": [
        "# Statement v/s Expression\n",
        "\n",
        "* iq = 100 --> \"iq = 100\" is statement\n",
        "* age = iq/5 --> \"iq/5\" is expression. \"age = iq/5\" is statement"
      ],
      "metadata": {
        "id": "au1vFXGJ8jKJ"
      }
    },
    {
      "cell_type": "markdown",
      "source": [
        "# Augmented Assignment Operator"
      ],
      "metadata": {
        "id": "D1a1ndr57ylU"
      }
    },
    {
      "cell_type": "code",
      "source": [
        "a = 5\n",
        "a += 5 #--> a = a + 5\n",
        "print(a)\n",
        "a -= 5 #--> a = a - 5\n",
        "print(a)\n",
        "a *= 5 #--> a = a * 5\n",
        "print(a)\n",
        "a /= 5 #--> a = a / 5\n",
        "print(a)\n",
        "a **= 3\n",
        "print(a)"
      ],
      "metadata": {
        "colab": {
          "base_uri": "https://localhost:8080/"
        },
        "id": "0kVow8mh8KTf",
        "outputId": "59081e28-402c-4439-ccfa-907e0788369c"
      },
      "execution_count": 8,
      "outputs": [
        {
          "output_type": "stream",
          "name": "stdout",
          "text": [
            "10\n",
            "5\n",
            "25\n",
            "5.0\n",
            "125.0\n"
          ]
        }
      ]
    },
    {
      "cell_type": "markdown",
      "source": [
        "# Strings"
      ],
      "metadata": {
        "id": "ovwLc4lR9O4v"
      }
    },
    {
      "cell_type": "markdown",
      "source": [
        "strings in python are stored as sequences of letters in memory"
      ],
      "metadata": {
        "id": "H-9EA2_l9W1-"
      }
    },
    {
      "cell_type": "code",
      "source": [
        "type('Hellloooooo') # str\n",
        "\n",
        "'I\\'m thirsty'\n",
        "\"I'm thirsty\"\n",
        "\"\\n\" # new line\n",
        "\"\\t\" # adds a tab\n",
        "\n",
        "#Long multi-line string with '''\n",
        "long_string = '''\n",
        "WOW\n",
        "0 0\n",
        "---\n",
        "'''\n",
        "print(long_string)\n",
        "\n",
        "'Hey you!'[4] # y\n",
        "name = 'Andrei Neagoie'\n",
        "name[4]     # e\n",
        "name[:]     # Andrei Neagoie\n",
        "name[1:]    # ndrei Neagoie\n",
        "name[:1]    # A\n",
        "name[-1]    # e\n",
        "name[::1]   # Andrei Neagoie\n",
        "name[::-1]  # eiogaeN ierdnA\n",
        "print(name[::-2]) # eoaNirn\n",
        "name[0:10:2]# Ade e\n",
        "# : is called slicing and has the format [ start : end : step ]\n",
        "\n",
        "'Hi there ' + 'Timmy' # 'Hi there Timmy' --> This is called string concatenation\n",
        "'*'*10 # **********"
      ],
      "metadata": {
        "colab": {
          "base_uri": "https://localhost:8080/",
          "height": 143
        },
        "id": "-UBTew1M9QLf",
        "outputId": "17e8d453-5f0d-4b2b-dd4c-db338ab603b7"
      },
      "execution_count": 16,
      "outputs": [
        {
          "output_type": "stream",
          "name": "stdout",
          "text": [
            "\n",
            "WOW\n",
            "0 0\n",
            "---\n",
            "\n",
            "eoaNirn\n"
          ]
        },
        {
          "output_type": "execute_result",
          "data": {
            "text/plain": [
              "'**********'"
            ],
            "application/vnd.google.colaboratory.intrinsic+json": {
              "type": "string"
            }
          },
          "metadata": {},
          "execution_count": 16
        }
      ]
    },
    {
      "cell_type": "code",
      "source": [
        "# Basic Functions\n",
        "len('turtle') # 6\n",
        "\n",
        "# Basic Methods\n",
        "'  I am alone '.strip()               # 'I am alone' --> Strips all whitespace characters from both ends.\n",
        "'On an island'.strip('d')             # 'On an islan' --> # Strips all passed characters from both ends.\n",
        "'but life is good!'.split()           # ['but', 'life', 'is', 'good!']\n",
        "'Help me'.replace('me', 'you')        # 'Help you' --> Replaces first with second param\n",
        "'Need to make fire'.startswith('Need')# True\n",
        "'and cook rice'.endswith('rice')      # True\n",
        "'still there?'.upper()                # STILL THERE?\n",
        "'HELLO?!'.lower()                     # hello?!\n",
        "'ok, I am done.'.capitalize()         # 'Ok, I am done.'\n",
        "'oh hi there'.count('e')              # 2\n",
        "'bye bye'.index('e')                  # 2\n",
        "'oh hi there'.find('i')               # 4 --> returns the starting index position of the first occurrence\n",
        "'oh hi there'.find('a')               # -1\n",
        "'oh hi there'.index('a')              # Raises ValueError"
      ],
      "metadata": {
        "id": "Zpc0UK9r9bmp"
      },
      "execution_count": null,
      "outputs": []
    },
    {
      "cell_type": "code",
      "source": [
        "# String Formatting\n",
        "name1 = 'Andrei'\n",
        "name2 = 'Sunny'\n",
        "print(f'Hello there {name1} and {name2}')       # Hello there Andrei and Sunny - Newer way to do things as of python 3.6\n",
        "print('Hello there {} and {}'.format(name1, name2))# Hello there Andrei and Sunny\n",
        "print('Hello there {1} and {0}'.format(name1, name2))# Hello there Andrei and Sunny\n",
        "print('Hello there %s and %s' %(name1, name2))  # Hello there Andrei and Sunny --> you can also use %d, %f, %r for integers, floats, string representations of objects respectively"
      ],
      "metadata": {
        "colab": {
          "base_uri": "https://localhost:8080/"
        },
        "id": "i8_lRtrk_DiC",
        "outputId": "c1c875c5-7aeb-4c38-cb5f-072a5cc4531f"
      },
      "execution_count": 15,
      "outputs": [
        {
          "output_type": "stream",
          "name": "stdout",
          "text": [
            "Hello there Andrei and Sunny\n",
            "Hello there Andrei and Sunny\n",
            "Hello there Sunny and Andrei\n",
            "Hello there Andrei and Sunny\n"
          ]
        }
      ]
    },
    {
      "cell_type": "code",
      "source": [
        "# Palindrome check\n",
        "word = 'reviver'\n",
        "p = bool(word.find(word[::-1]) + 1)\n",
        "print(p) # True"
      ],
      "metadata": {
        "colab": {
          "base_uri": "https://localhost:8080/"
        },
        "id": "N5StHI0z-tL0",
        "outputId": "a43ae41b-239a-44b2-bcea-1d33b3f6542e"
      },
      "execution_count": 13,
      "outputs": [
        {
          "output_type": "stream",
          "name": "stdout",
          "text": [
            "True\n"
          ]
        }
      ]
    },
    {
      "cell_type": "code",
      "source": [
        "# Immutability: You cannot change it's value unless you completely reassign, i.e., destroy the current string and create a new one.\n",
        "\n",
        "a = '01233456'\n",
        "a = '1234' # Re-assignment is ok. This is a whole new string with new memory address. Old string doesn't exist anymore.\n",
        "a.replace('1','9') # Doesn't change \"a\" unless we write a = a.replace('1','9') because strins are immutable.\n",
        "a[0] = '8' # raises error\n"
      ],
      "metadata": {
        "colab": {
          "base_uri": "https://localhost:8080/",
          "height": 232
        },
        "id": "J85L9QhOVi0z",
        "outputId": "cb0a8ca6-6760-4bec-cdaf-a4df4204776a"
      },
      "execution_count": 19,
      "outputs": [
        {
          "output_type": "error",
          "ename": "TypeError",
          "evalue": "ignored",
          "traceback": [
            "\u001b[0;31m---------------------------------------------------------------------------\u001b[0m",
            "\u001b[0;31mTypeError\u001b[0m                                 Traceback (most recent call last)",
            "\u001b[0;32m<ipython-input-19-54b44c421660>\u001b[0m in \u001b[0;36m<cell line: 4>\u001b[0;34m()\u001b[0m\n\u001b[1;32m      2\u001b[0m \u001b[0;34m\u001b[0m\u001b[0m\n\u001b[1;32m      3\u001b[0m \u001b[0ma\u001b[0m \u001b[0;34m=\u001b[0m \u001b[0;34m'01233456'\u001b[0m\u001b[0;34m\u001b[0m\u001b[0;34m\u001b[0m\u001b[0m\n\u001b[0;32m----> 4\u001b[0;31m \u001b[0ma\u001b[0m\u001b[0;34m[\u001b[0m\u001b[0;36m0\u001b[0m\u001b[0;34m]\u001b[0m \u001b[0;34m=\u001b[0m \u001b[0;34m'8'\u001b[0m \u001b[0;31m# raises error\u001b[0m\u001b[0;34m\u001b[0m\u001b[0;34m\u001b[0m\u001b[0m\n\u001b[0m\u001b[1;32m      5\u001b[0m \u001b[0ma\u001b[0m \u001b[0;34m=\u001b[0m \u001b[0;34m'8'\u001b[0m \u001b[0;31m# This is ok\u001b[0m\u001b[0;34m\u001b[0m\u001b[0;34m\u001b[0m\u001b[0m\n",
            "\u001b[0;31mTypeError\u001b[0m: 'str' object does not support item assignment"
          ]
        }
      ]
    },
    {
      "cell_type": "markdown",
      "source": [
        "# Booleans"
      ],
      "metadata": {
        "id": "yk4edCICYGzD"
      }
    },
    {
      "cell_type": "code",
      "source": [
        "bool(True)\n",
        "bool(False)\n",
        "\n",
        "# all of the below evaluate to False. Everything else will evaluate to True in Python.\n",
        "print(bool(None))\n",
        "print(bool(False))\n",
        "print(bool(0))\n",
        "print(bool(0.0))\n",
        "print(bool([]))\n",
        "print(bool({}))\n",
        "print(bool(()))\n",
        "print(bool(''))\n",
        "print(bool(range(0)))\n",
        "print(bool(set()))"
      ],
      "metadata": {
        "colab": {
          "base_uri": "https://localhost:8080/"
        },
        "id": "69ZLEIAaYGFE",
        "outputId": "93e7d95c-3d6e-47ff-f3ee-afc139104741"
      },
      "execution_count": 20,
      "outputs": [
        {
          "output_type": "stream",
          "name": "stdout",
          "text": [
            "False\n",
            "False\n",
            "False\n",
            "False\n",
            "False\n",
            "False\n",
            "False\n",
            "False\n",
            "False\n",
            "False\n"
          ]
        }
      ]
    },
    {
      "cell_type": "markdown",
      "source": [
        "# Lists"
      ],
      "metadata": {
        "id": "cBWnQxq-doy8"
      }
    },
    {
      "cell_type": "markdown",
      "source": [
        "Unlike strings, lists are mutable sequences in python"
      ],
      "metadata": {
        "id": "YoelG2ymeAnt"
      }
    },
    {
      "cell_type": "code",
      "source": [
        "my_list = [1, 2, '3', True]# We assume this list won't mutate for each example below\n",
        "len(my_list)               # 4\n",
        "print(my_list.index('3'))         # 2\n",
        "print(1 in my_list)        # True --> check if an item exists in the list\n",
        "my_list.count(2)           # 1 --> count how many times 2 appears\n",
        "\n",
        "my_list[3]                 # True\n",
        "my_list[1:]                # [2, '3', True]\n",
        "my_list[:1]                # [1]\n",
        "my_list[-1]                # True\n",
        "my_list[::1]               # [1, 2, '3', True]\n",
        "my_list[::-1]              # [True, '3', 2, 1]\n",
        "my_list[0:3:2]             # [1, '3']\n",
        "\n",
        "# : is called slicing and has the format [ start : end : step ]"
      ],
      "metadata": {
        "colab": {
          "base_uri": "https://localhost:8080/"
        },
        "id": "Y4PlolHIeESP",
        "outputId": "abe38627-6ee1-442b-cf65-ec8894c0c7e3"
      },
      "execution_count": 22,
      "outputs": [
        {
          "output_type": "stream",
          "name": "stdout",
          "text": [
            "2\n",
            "True\n"
          ]
        },
        {
          "output_type": "execute_result",
          "data": {
            "text/plain": [
              "[1, '3']"
            ]
          },
          "metadata": {},
          "execution_count": 22
        }
      ]
    },
    {
      "cell_type": "code",
      "source": [
        "# Add to List\n",
        "my_list * 2                # [1, 2, '3', True, 1, 2, '3', True]\n",
        "print(my_list)\n",
        "my_list + [100]            # [1, 2, '3', True, 100] --> doesn't mutate original list, creates new one\n",
        "my_list.append(100)        # None --> Mutates original list to [1, 2, '3', True, 100]          # Or: <list> += [<el>]\n",
        "my_list.extend([100, 200]) # None --> Mutates original list to [1, 2, '3', True, 100, 100, 200]\n",
        "my_list.insert(2, '!!!')   # None -->  [1, 2, '!!!', '3', True, 100, 100, 200] - Inserts item at index and moves the rest to the right.\n",
        "print(my_list)\n",
        "' '.join(['Hello','There'])# 'Hello There' --> Joins elements using string as separator. Here, separator is ' '.\n",
        "print('!'.join(['Hello','There','My','Friend']))\n",
        "print(' '.join(['Hello','There','My','Friend']))"
      ],
      "metadata": {
        "colab": {
          "base_uri": "https://localhost:8080/"
        },
        "id": "aVoenGh_eNmT",
        "outputId": "fda90b7a-341c-465e-aef6-0d68e37bcb09"
      },
      "execution_count": 23,
      "outputs": [
        {
          "output_type": "stream",
          "name": "stdout",
          "text": [
            "[1, 2, '3', True]\n",
            "[1, 2, '!!!', '3', True, 100, 100, 200]\n",
            "Hello!There!My!Friend\n",
            "Hello There My Friend\n"
          ]
        }
      ]
    },
    {
      "cell_type": "code",
      "source": [
        "# Copy a List\n",
        "basket = ['apples', 'pears', 'oranges']\n",
        "new_basket = basket.copy() # new_basket = basket will result in new_basket also pointing to the same memory location as basket.\n",
        "#Then, modifying new_basket will also modify basket.\n",
        "new_basket2 = basket[:] # List slicing always creates a new list"
      ],
      "metadata": {
        "id": "E-Ej04HUdqTS"
      },
      "execution_count": 14,
      "outputs": []
    },
    {
      "cell_type": "code",
      "source": [
        "# Remove from List\n",
        "[1,2,3].pop()    # 3 --> mutates original list, default index in the pop method is -1 (the last item)\n",
        "[1,2,3].pop(1)   # 2 --> mutates original list\n",
        "[1,2,3].remove(2)# None --> [1,3] Removes first occurrence of item or raises ValueError.\n",
        "[1,2,3].clear()  # None --> mutates original list and removes all items: []\n",
        "del [1,2,3][0]   # None --> removes item on index 0 or raises IndexError"
      ],
      "metadata": {
        "id": "Ah7wsqUklaR0"
      },
      "execution_count": 9,
      "outputs": []
    },
    {
      "cell_type": "code",
      "source": [
        "# Ordering\n",
        "[1,2,5,3].sort()         # None --> Mutates list to [1, 2, 3, 5]\n",
        "[1,2,5,3].sort(reverse=True) # None --> Mutates list to [5, 3, 2, 1]\n",
        "[1,2,5,3].reverse()      # None --> Mutates list to [3, 5, 2, 1]\n",
        "sorted([1,2,5,3])        # [1, 2, 3, 5] --> new list created\n",
        "my_list = [(4,1),(2,4),(2,5),(1,6),(8,9)]\n",
        "sorted(my_list,key=lambda x: int(x[0])) # [(1, 6), (2, 4), (2, 5), (4, 1), (8, 9)] --> sort the list by 1st (0th index) value of the tuple\n",
        "list(reversed([1,2,5,3]))# [3, 5, 2, 1] --> reversed() returns an iterator"
      ],
      "metadata": {
        "colab": {
          "base_uri": "https://localhost:8080/"
        },
        "id": "70myEJAGldYJ",
        "outputId": "14a1dd1f-6e23-4317-9df8-f9c379e33bd8"
      },
      "execution_count": 15,
      "outputs": [
        {
          "output_type": "execute_result",
          "data": {
            "text/plain": [
              "[3, 5, 2, 1]"
            ]
          },
          "metadata": {},
          "execution_count": 15
        }
      ]
    },
    {
      "cell_type": "code",
      "source": [
        "# List unpacking\n",
        "a,b,c = [1,2,3]\n",
        "print(a, b, c)\n",
        "a,b,c,*other = [1,2,3,4,5,6,7]\n",
        "print(a, b, c, other)\n",
        "a,b,c,*other,d = [1,2,3,4,5,6,7]\n",
        "print(a, b, c, other, d)"
      ],
      "metadata": {
        "colab": {
          "base_uri": "https://localhost:8080/"
        },
        "id": "bBQWsUg9vDqG",
        "outputId": "228f63c4-1ec3-4b63-a3e9-65021f442306"
      },
      "execution_count": 26,
      "outputs": [
        {
          "output_type": "stream",
          "name": "stdout",
          "text": [
            "1 2 3\n",
            "1 2 3 [4, 5, 6, 7]\n",
            "1 2 3 [4, 5, 6] 7\n"
          ]
        }
      ]
    },
    {
      "cell_type": "code",
      "source": [
        "# Get First and Last element of a list\n",
        "mList = [63, 21, 30, 14, 35, 26, 77, 18, 49, 10]\n",
        "first, *x, last = mList\n",
        "print(first) #63\n",
        "print(last) #10"
      ],
      "metadata": {
        "colab": {
          "base_uri": "https://localhost:8080/"
        },
        "id": "xdXJGwjclv33",
        "outputId": "b84a5f2a-1e9b-415e-d2bf-5fabdf6b6542"
      },
      "execution_count": 28,
      "outputs": [
        {
          "output_type": "stream",
          "name": "stdout",
          "text": [
            "63\n",
            "10\n"
          ]
        }
      ]
    },
    {
      "cell_type": "code",
      "source": [
        "# Useful operations\n",
        "1 in [1,2,5,3]  # True\n",
        "min([1,2,3,4,5])# 1\n",
        "max([1,2,3,4,5])# 5\n",
        "sum([1,2,3,4,5])# 15"
      ],
      "metadata": {
        "colab": {
          "base_uri": "https://localhost:8080/"
        },
        "id": "2nTL9eyVlgmI",
        "outputId": "f598d698-46dd-4617-e998-27bd6076c659"
      },
      "execution_count": 27,
      "outputs": [
        {
          "output_type": "execute_result",
          "data": {
            "text/plain": [
              "15"
            ]
          },
          "metadata": {},
          "execution_count": 27
        }
      ]
    },
    {
      "cell_type": "code",
      "source": [
        "# Matrix\n",
        "matrix = [[1,2,3], [4,5,6], [7,8,9]]\n",
        "matrix[2][0] # 7 --> Grab first first of the third item in the matrix object\n",
        "\n",
        "# Looping through a matrix by rows:\n",
        "mx = [[1,2,3],[4,5,6]]\n",
        "for row in range(len(mx)):\n",
        "\tfor col in range(len(mx[0])):\n",
        "\t\tprint(mx[row][col]) # 1 2 3 4 5 6\n",
        "\n",
        "# Transform into a list:\n",
        "print([mx[row][col] for row in range(len(mx)) for col in range(len(mx[0]))]) # [1,2,3,4,5,6]\n",
        "\n",
        "# Combine columns with zip and *:\n",
        "[x for x in zip(*mx)] # [(1, 4), (2, 5), (3, 6)]\n"
      ],
      "metadata": {
        "colab": {
          "base_uri": "https://localhost:8080/"
        },
        "id": "qy4L6JqVl1cc",
        "outputId": "eb56adf3-7e89-42e9-d639-79b0b6d967e1"
      },
      "execution_count": 30,
      "outputs": [
        {
          "output_type": "stream",
          "name": "stdout",
          "text": [
            "1\n",
            "2\n",
            "3\n",
            "4\n",
            "5\n",
            "6\n",
            "[1, 2, 3, 4, 5, 6]\n"
          ]
        },
        {
          "output_type": "execute_result",
          "data": {
            "text/plain": [
              "[(1, 4), (2, 5), (3, 6)]"
            ]
          },
          "metadata": {},
          "execution_count": 30
        }
      ]
    },
    {
      "cell_type": "code",
      "source": [
        "# List Comprehensions\n",
        "# new_list[<action> for <item> in <iterator> if <some condition>]\n",
        "a = [i for i in 'hello']                  # ['h', 'e', 'l', 'l', '0']\n",
        "b = [i*2 for i in [1,2,3]]                # [2, 4, 6]\n",
        "c = [i for i in range(0,10) if i % 2 == 0]# [0, 2, 4, 6, 8]"
      ],
      "metadata": {
        "id": "YIUAiYD7mE0K"
      },
      "execution_count": null,
      "outputs": []
    },
    {
      "cell_type": "code",
      "source": [
        "# Advanced Functions\n",
        "list_of_chars = list('Helloooo')                                   # ['H', 'e', 'l', 'l', 'o', 'o', 'o', 'o']\n",
        "sum_of_elements = sum([1,2,3,4,5])                                 # 15\n",
        "element_sum = [sum(pair) for pair in zip([1,2,3],[4,5,6])]         # [5, 7, 9]\n",
        "sorted_by_second = sorted(['hi','you','man'], key=lambda el: el[1])# ['man', 'hi', 'you']\n",
        "sorted_by_key = sorted([\n",
        "                       {'name': 'Bina', 'age': 30},\n",
        "                       {'name':'Andy', 'age': 18},\n",
        "                       {'name': 'Zoey', 'age': 55}],\n",
        "                       key=lambda el: (el['name']))# [{'name': 'Andy', 'age': 18}, {'name': 'Bina', 'age': 30}, {'name': 'Zoey', 'age': 55}]"
      ],
      "metadata": {
        "id": "xafXPN79mFvB"
      },
      "execution_count": null,
      "outputs": []
    },
    {
      "cell_type": "code",
      "source": [
        "# Read line of a file into a list\n",
        "with open(\"myfile.txt\") as f:\n",
        "  lines = [line.strip() for line in f]"
      ],
      "metadata": {
        "id": "kTm4w8M5mRzi"
      },
      "execution_count": null,
      "outputs": []
    },
    {
      "cell_type": "markdown",
      "source": [
        "#None"
      ],
      "metadata": {
        "id": "O2QIr9LYwrhY"
      }
    },
    {
      "cell_type": "markdown",
      "source": [
        "None is used for absence of a value and can be used to show nothing has been assigned to an object"
      ],
      "metadata": {
        "id": "PMJjtWI1w0uW"
      }
    },
    {
      "cell_type": "code",
      "source": [
        "print(type(None)) # NoneType\n",
        "a = None"
      ],
      "metadata": {
        "colab": {
          "base_uri": "https://localhost:8080/"
        },
        "id": "j5eikQvxwtBj",
        "outputId": "12fa77f4-ceac-4554-aa0d-64c1de2f0e91"
      },
      "execution_count": 33,
      "outputs": [
        {
          "output_type": "stream",
          "name": "stdout",
          "text": [
            "<class 'NoneType'>\n"
          ]
        }
      ]
    },
    {
      "cell_type": "markdown",
      "source": [
        "#Dictionaries"
      ],
      "metadata": {
        "id": "TenDHhElxvh8"
      }
    },
    {
      "cell_type": "markdown",
      "source": [
        "Also known as mappings or hash tables. They are key value pairs that are guaranteed to retain order of insertion starting from Python 3.7\n",
        "\n",
        "It is unordered data structure. So, one key-value pair could be in one part of memory and next key-value pair could be in completely different part of the memory. On the other hand, list is ordered, so we can access its elements by index and all elements are located adjacent to each other in the memory."
      ],
      "metadata": {
        "id": "jyujh82Kx9o7"
      }
    },
    {
      "cell_type": "code",
      "source": [
        "my_dict = {'name': 'Andrei Neagoie', 'age': 30, 'magic_power': False, 'prev_scores': [200,500,650]}\n",
        "my_dict['name']                      # Andrei Neagoie\n",
        "len(my_dict)                         # 4\n",
        "my_dict['prev_scores'][0]            # 200\n",
        "list(my_dict.keys())                 # ['name', 'age', 'magic_power', 'prev_scores']\n",
        "list(my_dict.values())               # ['Andrei Neagoie', 30, False, [200, 500, 650]]\n",
        "list(my_dict.items())                # [('name', 'Andrei Neagoie'), ('age', 30), ('magic_power', False), ('prev_scores', [200, 500, 650])]\n",
        "my_dict['favourite_snack'] = 'Grapes'# {'name': 'Andrei Neagoie', 'age': 30, 'magic_power': False, 'prev_scores': [200,500,650], 'favourite_snack': 'Grapes'}\n",
        "my_dict.get('age')                   # 30 --> Returns None if key does not exist.\n",
        "my_dict.get('ages', 0 )              # 0 --> Returns default (2nd param) if key is not found\n",
        "print('ages' in my_dict)             # False\n",
        "print('ages' in my_dict.keys())      # False\n",
        "print(30 in my_dict.values())        # True\n",
        "print(my_dict.popitem())             # ('favourite_snack', 'Grapes') Pops out the last key value pair in dictionary from python 3.7. Earlier, it uses to be any random key value pair\n",
        "print(my_dict)\n",
        "\n",
        "#Remove key\n",
        "del my_dict['name']\n",
        "my_dict.pop('name', None)"
      ],
      "metadata": {
        "colab": {
          "base_uri": "https://localhost:8080/"
        },
        "id": "1_EJIOdwxyEC",
        "outputId": "357128f4-9e07-482b-d587-3da1b378e71d"
      },
      "execution_count": 88,
      "outputs": [
        {
          "output_type": "stream",
          "name": "stdout",
          "text": [
            "False\n",
            "False\n",
            "True\n",
            "('favourite_snack', 'Grapes')\n",
            "{'name': 'Andrei Neagoie', 'age': 30, 'magic_power': False, 'prev_scores': [200, 500, 650]}\n"
          ]
        }
      ]
    },
    {
      "cell_type": "code",
      "source": [
        "my_dict.update({'cool': True})                                         # {'age': 30, 'magic_power': False, 'prev_scores': [200, 500, 650], 'cool': True}\n",
        "print(my_dict)\n",
        "{**my_dict, **{'cool': True} }                                         # {'age': 30, 'magic_power': False, 'prev_scores': [200, 500, 650], 'cool': True}\n",
        "print(my_dict)\n",
        "my_dict.update({'age': 45})                                            # {'age': 45, 'magic_power': False, 'prev_scores': [200, 500, 650], 'cool': True}\n",
        "print(my_dict)\n",
        "new_dict = dict([['name','Andrei'],['age',32],['magic_power',False]])  # Creates a dict from collection of key-value pairs.\n",
        "new_dict = dict(zip(['name','age','magic_power'],['Andrei',32, False]))# Creates a dict from two collections.\n",
        "snack = my_dict.pop('cool')                                            # True --> Removes item from dictionary.\n",
        "print(new_dict)\n",
        "new_dict2 = dict(name = 'John')                                        # {'name': 'John'}\n",
        "print(new_dict2)"
      ],
      "metadata": {
        "colab": {
          "base_uri": "https://localhost:8080/"
        },
        "id": "guhAsh6PyCZn",
        "outputId": "be3e9734-ab8a-4e0b-e734-4ab6e6aace72"
      },
      "execution_count": 89,
      "outputs": [
        {
          "output_type": "stream",
          "name": "stdout",
          "text": [
            "{'age': 30, 'magic_power': False, 'prev_scores': [200, 500, 650], 'cool': True}\n",
            "{'age': 30, 'magic_power': False, 'prev_scores': [200, 500, 650], 'cool': True}\n",
            "{'age': 45, 'magic_power': False, 'prev_scores': [200, 500, 650], 'cool': True}\n",
            "{'name': 'Andrei', 'age': 32, 'magic_power': False}\n",
            "{'name': 'John'}\n"
          ]
        }
      ]
    },
    {
      "cell_type": "code",
      "source": [
        "# Dictionary Comprehension\n",
        "print(new_dict)\n",
        "{key: value for key, value in new_dict.items() if key == 'age' or key == 'name'} # {'name': 'Andrei', 'age': 32} --> Filter dict by keys"
      ],
      "metadata": {
        "colab": {
          "base_uri": "https://localhost:8080/"
        },
        "id": "StPEVeQ7yH_O",
        "outputId": "d71ef878-e9d4-4d98-c39d-a3d0acb4a0f7"
      },
      "execution_count": 63,
      "outputs": [
        {
          "output_type": "stream",
          "name": "stdout",
          "text": [
            "{'name': 'Andrei', 'age': 32, 'magic_power': False}\n"
          ]
        },
        {
          "output_type": "execute_result",
          "data": {
            "text/plain": [
              "{'name': 'Andrei', 'age': 32}"
            ]
          },
          "metadata": {},
          "execution_count": 63
        }
      ]
    },
    {
      "cell_type": "code",
      "source": [
        "# List of dictionaries\n",
        "my_list = [\n",
        "    {\n",
        "        'a': [1,2,3],\n",
        "        'b': 'hello',\n",
        "        'x': True\n",
        "    },\n",
        "    {\n",
        "        'a': [4,5,6],\n",
        "        'b': 'hello',\n",
        "        'x': True\n",
        "    }\n",
        "]\n",
        "print(my_list[0]['a'][2])"
      ],
      "metadata": {
        "colab": {
          "base_uri": "https://localhost:8080/"
        },
        "id": "nRskOjc016rZ",
        "outputId": "aa24b739-6571-44cd-a129-7d12cc1fdc45"
      },
      "execution_count": 40,
      "outputs": [
        {
          "output_type": "stream",
          "name": "stdout",
          "text": [
            "3\n"
          ]
        }
      ]
    },
    {
      "cell_type": "code",
      "source": [
        "# Dictionary Keys\n",
        "# Keys need to be immutable, so it cannot be a list, for example. number, boolean, strings are ok.\n",
        "my_dict = {\n",
        "        'a': [1,2,3],\n",
        "        123: 'hello',\n",
        "        True: 30,\n",
        "        (1,2): 40\n",
        "    }\n",
        "\n",
        "print(my_dict[123])\n",
        "print(my_dict[True])\n",
        "print(my_dict[(1,2)])\n",
        "\n",
        "# We can't have 2 keys with the same name. Otherwise, it gets overridden.\n",
        "my_dict2 = {\n",
        "        'a': [1,2,3],\n",
        "        '123': 'hello',\n",
        "        '123': 'duplicate'\n",
        "    }\n",
        "\n",
        "print(my_dict2['123'])"
      ],
      "metadata": {
        "colab": {
          "base_uri": "https://localhost:8080/"
        },
        "id": "GtaEUf0K5FJw",
        "outputId": "325fcfdf-4865-42d5-a426-0eb5e5406f3c"
      },
      "execution_count": 1,
      "outputs": [
        {
          "output_type": "stream",
          "name": "stdout",
          "text": [
            "hello\n",
            "30\n",
            "40\n",
            "duplicate\n"
          ]
        }
      ]
    },
    {
      "cell_type": "code",
      "source": [
        "my_dict3 = my_dict.copy()\n",
        "my_dict.clear()             # None --> Clears the dictionary\n",
        "print(my_dict)\n",
        "print(my_dict3)"
      ],
      "metadata": {
        "colab": {
          "base_uri": "https://localhost:8080/"
        },
        "id": "PXuIa-7i9jLW",
        "outputId": "f8aa48b7-24dd-4414-d642-40a1c98f423e"
      },
      "execution_count": 80,
      "outputs": [
        {
          "output_type": "stream",
          "name": "stdout",
          "text": [
            "{}\n",
            "{'a': [1, 2, 3], 123: 'hello', True: 30}\n"
          ]
        }
      ]
    },
    {
      "cell_type": "markdown",
      "source": [
        "# Tuples"
      ],
      "metadata": {
        "id": "irT6dsAqAfrE"
      }
    },
    {
      "cell_type": "markdown",
      "source": [
        "Like Lists but they are immutable.\n",
        "\n",
        "All list functionality work for tuple except those that change the list in place.. like sort, reverse, append, extend etc.\n",
        "\n",
        "Because of less flexibility, tuples are faster than lists."
      ],
      "metadata": {
        "id": "76739kaUAyGB"
      }
    },
    {
      "cell_type": "code",
      "source": [
        "my_tuple = ('apple','grapes','mango', 'grapes')\n",
        "apple, grapes, mango, grapes = my_tuple# Tuple unpacking\n",
        "len(my_tuple)                          # 4\n",
        "my_tuple[2]                            # mango\n",
        "my_tuple[-1]                           # 'grapes'\n",
        "a,*other,b = my_tuple\n",
        "print(a,b,other)"
      ],
      "metadata": {
        "colab": {
          "base_uri": "https://localhost:8080/"
        },
        "id": "Om1eYxDQAg3H",
        "outputId": "533b7f1b-7f5e-4c0b-e0f6-35d97158728d"
      },
      "execution_count": 2,
      "outputs": [
        {
          "output_type": "stream",
          "name": "stdout",
          "text": [
            "apple grapes ['grapes', 'mango']\n"
          ]
        }
      ]
    },
    {
      "cell_type": "code",
      "source": [
        "# Immutability\n",
        "my_tuple[1] = 'donuts'  # TypeError\n",
        "my_tuple.append('candy')# AttributeError"
      ],
      "metadata": {
        "colab": {
          "base_uri": "https://localhost:8080/",
          "height": 214
        },
        "id": "lopXBpHHA4e0",
        "outputId": "1ee785e7-83c7-43f3-eaf5-2f61c9d2ddbe"
      },
      "execution_count": 91,
      "outputs": [
        {
          "output_type": "error",
          "ename": "TypeError",
          "evalue": "ignored",
          "traceback": [
            "\u001b[0;31m---------------------------------------------------------------------------\u001b[0m",
            "\u001b[0;31mTypeError\u001b[0m                                 Traceback (most recent call last)",
            "\u001b[0;32m<ipython-input-91-6b720860a5aa>\u001b[0m in \u001b[0;36m<cell line: 2>\u001b[0;34m()\u001b[0m\n\u001b[1;32m      1\u001b[0m \u001b[0;31m# Immutability\u001b[0m\u001b[0;34m\u001b[0m\u001b[0;34m\u001b[0m\u001b[0m\n\u001b[0;32m----> 2\u001b[0;31m \u001b[0mmy_tuple\u001b[0m\u001b[0;34m[\u001b[0m\u001b[0;36m1\u001b[0m\u001b[0;34m]\u001b[0m \u001b[0;34m=\u001b[0m \u001b[0;34m'donuts'\u001b[0m  \u001b[0;31m# TypeError\u001b[0m\u001b[0;34m\u001b[0m\u001b[0;34m\u001b[0m\u001b[0m\n\u001b[0m\u001b[1;32m      3\u001b[0m \u001b[0mmy_tuple\u001b[0m\u001b[0;34m.\u001b[0m\u001b[0mappend\u001b[0m\u001b[0;34m(\u001b[0m\u001b[0;34m'candy'\u001b[0m\u001b[0;34m)\u001b[0m\u001b[0;31m# AttributeError\u001b[0m\u001b[0;34m\u001b[0m\u001b[0;34m\u001b[0m\u001b[0m\n",
            "\u001b[0;31mTypeError\u001b[0m: 'tuple' object does not support item assignment"
          ]
        }
      ]
    },
    {
      "cell_type": "code",
      "source": [
        "# Methods: Tuple has only two methods\n",
        "my_tuple.index('grapes') # 1\n",
        "my_tuple.count('grapes') # 2"
      ],
      "metadata": {
        "colab": {
          "base_uri": "https://localhost:8080/"
        },
        "id": "qN62bSO3A9f1",
        "outputId": "923c343f-6064-4119-f853-a27637f7c11f"
      },
      "execution_count": 92,
      "outputs": [
        {
          "output_type": "execute_result",
          "data": {
            "text/plain": [
              "2"
            ]
          },
          "metadata": {},
          "execution_count": 92
        }
      ]
    },
    {
      "cell_type": "code",
      "source": [
        "# Zip\n",
        "list(zip([1,2,3], [4,5,6])) # [(1, 4), (2, 5), (3, 6)]"
      ],
      "metadata": {
        "colab": {
          "base_uri": "https://localhost:8080/"
        },
        "id": "Db_G0i_GBTfw",
        "outputId": "607ea65c-b43a-41bc-d706-25df6ab677f0"
      },
      "execution_count": 94,
      "outputs": [
        {
          "output_type": "execute_result",
          "data": {
            "text/plain": [
              "[(1, 4), (2, 5), (3, 6)]"
            ]
          },
          "metadata": {},
          "execution_count": 94
        }
      ]
    },
    {
      "cell_type": "code",
      "source": [
        "# unzip\n",
        "z = [(1, 2), (3, 4), (5, 6), (7, 8)] # Some output of zip() function\n",
        "unzip = lambda z: list(zip(*z))\n",
        "unzip(z)"
      ],
      "metadata": {
        "colab": {
          "base_uri": "https://localhost:8080/"
        },
        "id": "6Z7MgromBYJo",
        "outputId": "c568fba9-7b8b-4a66-885f-d5a355696a50"
      },
      "execution_count": 95,
      "outputs": [
        {
          "output_type": "execute_result",
          "data": {
            "text/plain": [
              "[(1, 3, 5, 7), (2, 4, 6, 8)]"
            ]
          },
          "metadata": {},
          "execution_count": 95
        }
      ]
    },
    {
      "cell_type": "markdown",
      "source": [
        "#Sets"
      ],
      "metadata": {
        "id": "6hU47XqhfJIz"
      }
    },
    {
      "cell_type": "markdown",
      "source": [
        "## General Sets"
      ],
      "metadata": {
        "id": "HfT_gHi4Cmpv"
      }
    },
    {
      "cell_type": "markdown",
      "source": [
        "Unorderd collection of unique elements."
      ],
      "metadata": {
        "id": "72iUXnuffS3v"
      }
    },
    {
      "cell_type": "code",
      "source": [
        "my_set = set()\n",
        "my_set.add(1)  # {1}\n",
        "my_set.add(100)# {1, 100}\n",
        "my_set.add(100)# {1, 100} --> no duplicates!"
      ],
      "metadata": {
        "id": "iKM75DUhfL-T"
      },
      "execution_count": 4,
      "outputs": []
    },
    {
      "cell_type": "code",
      "source": [
        "new_list = [1,2,3,3,3,4,4,5,6,1]\n",
        "set(new_list)           # {1, 2, 3, 4, 5, 6}\n",
        "\n",
        "my_set.remove(100)      # {1} --> Raises KeyError if element not found\n",
        "my_set.discard(100)     # {1} --> Doesn't raise an error if element not found\n",
        "my_set.clear()          # {}\n",
        "new_set = {1,2,3}.copy()# {1,2,3}"
      ],
      "metadata": {
        "id": "L7XpqJIYfab-"
      },
      "execution_count": 5,
      "outputs": []
    },
    {
      "cell_type": "code",
      "source": [
        "set1 = {1,2,3}\n",
        "set2 = {3,4,5}\n",
        "set3 = set1.union(set2)               # {1,2,3,4,5}\n",
        "print(set1 | set2)                    # Same as union\n",
        "set4 = set1.intersection(set2)        # {3}\n",
        "print(set1 & set2)                    # Same as intersection\n",
        "set5 = set1.difference(set2)          # {1, 2}\n",
        "set6 = set1.symmetric_difference(set2)# {1, 2, 4, 5}\n",
        "set1.issubset(set2)                   # False\n",
        "set1.issuperset(set2)                 # False\n",
        "set1.isdisjoint(set2)                 # False --> return True if two sets have a null intersection.\n",
        "print(set1)\n",
        "set1.difference_update(set2)          # None --> removes common elements between set1 and set2 from set1\n",
        "print(set1)"
      ],
      "metadata": {
        "colab": {
          "base_uri": "https://localhost:8080/"
        },
        "id": "4niImZDkfcuR",
        "outputId": "8be10a0a-26fa-4e7d-c725-ecd8559e2f8d"
      },
      "execution_count": 2,
      "outputs": [
        {
          "output_type": "stream",
          "name": "stdout",
          "text": [
            "{1, 2, 3, 4, 5}\n",
            "{3}\n",
            "{1, 2, 3}\n",
            "{1, 2}\n"
          ]
        }
      ]
    },
    {
      "cell_type": "markdown",
      "source": [
        "## Frozen Set"
      ],
      "metadata": {
        "id": "89-nh1hWChcS"
      }
    },
    {
      "cell_type": "markdown",
      "source": [
        "**Frozen set** is just an immutable version of a Python set object. While elements of a set can be modified at any time, elements of the frozen set remain the same after creation.\n",
        "\n",
        "Due to this, frozen sets can be used as keys in Dictionary or as elements of another set. But like sets, it is not ordered (the elements can be set at any index).\n",
        "\n",
        "The syntax of frozenset() function is: frozenset([iterable])"
      ],
      "metadata": {
        "id": "bROlOtis77MP"
      }
    },
    {
      "cell_type": "code",
      "source": [
        "# tuple of vowels\n",
        "vowels = ('a', 'e', 'i', 'o', 'u')\n",
        "\n",
        "fSet = frozenset(vowels)\n",
        "print('The frozen set is:', fSet)\n",
        "print('The empty frozen set is:', frozenset())\n",
        "\n",
        "# frozensets are immutable\n",
        "fSet.add('v')"
      ],
      "metadata": {
        "colab": {
          "base_uri": "https://localhost:8080/",
          "height": 250
        },
        "id": "fI31gAEF8TPj",
        "outputId": "13bcb80f-9a2e-4924-f5cd-f6cabb0f52e3"
      },
      "execution_count": 4,
      "outputs": [
        {
          "output_type": "stream",
          "name": "stdout",
          "text": [
            "The frozen set is: frozenset({'a', 'e', 'o', 'i', 'u'})\n",
            "The empty frozen set is: frozenset()\n"
          ]
        },
        {
          "output_type": "error",
          "ename": "AttributeError",
          "evalue": "ignored",
          "traceback": [
            "\u001b[0;31m---------------------------------------------------------------------------\u001b[0m",
            "\u001b[0;31mAttributeError\u001b[0m                            Traceback (most recent call last)",
            "\u001b[0;32m<ipython-input-4-46ef7116a3e5>\u001b[0m in \u001b[0;36m<cell line: 9>\u001b[0;34m()\u001b[0m\n\u001b[1;32m      7\u001b[0m \u001b[0;34m\u001b[0m\u001b[0m\n\u001b[1;32m      8\u001b[0m \u001b[0;31m# frozensets are immutable\u001b[0m\u001b[0;34m\u001b[0m\u001b[0;34m\u001b[0m\u001b[0m\n\u001b[0;32m----> 9\u001b[0;31m \u001b[0mfSet\u001b[0m\u001b[0;34m.\u001b[0m\u001b[0madd\u001b[0m\u001b[0;34m(\u001b[0m\u001b[0;34m'v'\u001b[0m\u001b[0;34m)\u001b[0m\u001b[0;34m\u001b[0m\u001b[0;34m\u001b[0m\u001b[0m\n\u001b[0m",
            "\u001b[0;31mAttributeError\u001b[0m: 'frozenset' object has no attribute 'add'"
          ]
        }
      ]
    },
    {
      "cell_type": "code",
      "source": [
        "# When you use a dictionary as an iterable for a frozen set, it only takes keys of the dictionary to create the set.\n",
        "# random dictionary\n",
        "person = {\"name\": \"John\", \"age\": 23, \"sex\": \"male\"}\n",
        "\n",
        "fSet = frozenset(person)\n",
        "print('The frozen set is:', fSet)"
      ],
      "metadata": {
        "colab": {
          "base_uri": "https://localhost:8080/"
        },
        "id": "yuvOcR7bfhRT",
        "outputId": "f9ac1f25-3bc5-493b-9d4d-2a54a669df35"
      },
      "execution_count": 5,
      "outputs": [
        {
          "output_type": "stream",
          "name": "stdout",
          "text": [
            "The frozen set is: frozenset({'name', 'sex', 'age'})\n"
          ]
        }
      ]
    },
    {
      "cell_type": "code",
      "source": [
        "# frozenset is hashable --> it can be used as a key in a dictionary or as an element in a set.\n",
        "\n",
        "fset1 = frozenset()\n",
        "dict_set = {fset1: 30, fSet: 40}\n",
        "\n",
        "print(dict_set[fset1])\n",
        "print(dict_set[fSet])"
      ],
      "metadata": {
        "colab": {
          "base_uri": "https://localhost:8080/"
        },
        "id": "tS6PA2ou83iU",
        "outputId": "3989a866-ffe2-430e-9b5a-f85bdcb3c47e"
      },
      "execution_count": 8,
      "outputs": [
        {
          "output_type": "stream",
          "name": "stdout",
          "text": [
            "30\n",
            "40\n"
          ]
        }
      ]
    },
    {
      "cell_type": "markdown",
      "source": [
        "# Truthy and Falsy"
      ],
      "metadata": {
        "id": "4zjuXVNz9uky"
      }
    },
    {
      "cell_type": "markdown",
      "source": [
        "Truthy and Falsy can be thought of any variable converted to boolean. A \"truthy\" value will satisfy the check performed by if or while statements. As explained in the [documentation](https://docs.python.org/3/library/stdtypes.html#truth-value-testing), all values are considered \"truthy\" except for the following, which are \"falsy\":\n",
        "\n",
        "* None\n",
        "* False\n",
        "* Numbers that are numerically equal to zero, including:\n",
        "  * 0\n",
        "  * 0.0\n",
        "  * 0j\n",
        "  * decimal.Decimal(0)\n",
        "  * fraction.Fraction(0, 1)\n",
        "* Empty sequences and collections, including:\n",
        "  * [] - an empty list\n",
        "  * {} - an empty dict\n",
        "  * () - an empty tuple\n",
        "  * set() - an empty set\n",
        "  * '' - an empty str\n",
        "  * b'' - an empty bytes\n",
        "  * bytearray(b'') - an empty bytearray\n",
        "  * memoryview(b'') - an empty memoryview\n",
        "  * an empty range, like range(0)\n",
        "* objects for which\n",
        "  * obj.\\_\\_bool\\_\\_() returns False\n",
        "  * obj.\\_\\_len\\_\\_() returns 0, given that obj.\\_\\_bool\\_\\_ is undefined"
      ],
      "metadata": {
        "id": "v-t32vCM9yhb"
      }
    },
    {
      "cell_type": "code",
      "source": [
        "print(bool([]))"
      ],
      "metadata": {
        "colab": {
          "base_uri": "https://localhost:8080/"
        },
        "id": "cVVbC7N_9x57",
        "outputId": "a5ec0fa3-e840-4c80-f06f-7267c02e05fa"
      },
      "execution_count": 9,
      "outputs": [
        {
          "output_type": "stream",
          "name": "stdout",
          "text": [
            "False\n"
          ]
        }
      ]
    },
    {
      "cell_type": "markdown",
      "source": [
        "# Ternary Operator"
      ],
      "metadata": {
        "id": "Sl5qiuMUASlR"
      }
    },
    {
      "cell_type": "markdown",
      "source": [
        "Also called **Conditional Expression**. It's syntax is as below:\n",
        "\n",
        "\\<return_this_if_true\\>  if  \\<condition\\>  else  \\<return_this_if_false\\>"
      ],
      "metadata": {
        "id": "s6fb0jcJAjKS"
      }
    },
    {
      "cell_type": "code",
      "source": [
        "is_friend = True\n",
        "can_message = \"Message allowed\" if is_friend else \"Message not allowed\"\n",
        "print(can_message)"
      ],
      "metadata": {
        "colab": {
          "base_uri": "https://localhost:8080/"
        },
        "id": "6_dw_tKdAU7o",
        "outputId": "222db18f-aa60-4c36-a98c-262ca35fd4ad"
      },
      "execution_count": 10,
      "outputs": [
        {
          "output_type": "stream",
          "name": "stdout",
          "text": [
            "Message allowed\n"
          ]
        }
      ]
    },
    {
      "cell_type": "code",
      "source": [
        "is_friend = True\n",
        "is_close = False\n",
        "can_message = \"Message allowed\" if is_close else \"General Message allowed\" if is_friend else \"Message not allowed\"\n",
        "print(can_message)"
      ],
      "metadata": {
        "colab": {
          "base_uri": "https://localhost:8080/"
        },
        "id": "EqysKwM0Bng-",
        "outputId": "f9aebc35-7161-430c-cd0e-9a9d3f78052a"
      },
      "execution_count": 14,
      "outputs": [
        {
          "output_type": "stream",
          "name": "stdout",
          "text": [
            "General Message allowed\n"
          ]
        }
      ]
    },
    {
      "cell_type": "code",
      "source": [
        "[a if a else 'zero' for a in [0, 1, 0, 3]] # ['zero', 1, 'zero', 3]"
      ],
      "metadata": {
        "colab": {
          "base_uri": "https://localhost:8080/"
        },
        "id": "AaJdwdx5IqLr",
        "outputId": "4f95d8c8-4eff-4f60-860f-d6452d8c2de3"
      },
      "execution_count": 1,
      "outputs": [
        {
          "output_type": "execute_result",
          "data": {
            "text/plain": [
              "['zero', 1, 'zero', 3]"
            ]
          },
          "metadata": {},
          "execution_count": 1
        }
      ]
    },
    {
      "cell_type": "markdown",
      "source": [
        "#Short Circuiting"
      ],
      "metadata": {
        "id": "2YzZqqrTCT2q"
      }
    },
    {
      "cell_type": "markdown",
      "source": [
        "When we use conditions, python interpretor can skip evaluating some of the conditions to save on computing resources. This is called **Short Circuiting**.\n",
        "\n",
        "\n",
        "  * **Example 1:** Condition1 and Condition2 and Condition3 and Condition4 and ....\n",
        "\n",
        "  In this case, if Condition1 is False, python interpretor skips the evaluation of the other conditions because the whole condition will be False regardless of other conditions.\n",
        "\n",
        "  * **Example 2:** Condition1 or Condition2 or Condition3 or Condition4 or ....\n",
        "\n",
        "  In this case, if Condition1 is True, python interpretor skips the evaluation of the other conditions because the whole condition will be True regardless of other conditions."
      ],
      "metadata": {
        "id": "LWaAS7LUDR7e"
      }
    },
    {
      "cell_type": "markdown",
      "source": [
        "#Operators"
      ],
      "metadata": {
        "id": "kwU0J0nUFZ1G"
      }
    },
    {
      "cell_type": "markdown",
      "source": [
        "##Comparison Operators"
      ],
      "metadata": {
        "id": "vUSHEWv7FPu3"
      }
    },
    {
      "cell_type": "code",
      "source": [
        "==                   # equal values\n",
        "!=                   # not equal\n",
        ">                    # left operand is greater than right operand\n",
        "<                    # left operand is less than right operand\n",
        ">=                   # left operand is greater than or equal to right operand\n",
        "<=                   # left operand is less than or equal to right operand\n",
        "<element> is <element> # check if two operands refer to same object in memory"
      ],
      "metadata": {
        "id": "iW3Gbfr7E8bQ"
      },
      "execution_count": null,
      "outputs": []
    },
    {
      "cell_type": "markdown",
      "source": [
        "##Logical Operators"
      ],
      "metadata": {
        "id": "wfb7vHLRE5FD"
      }
    },
    {
      "cell_type": "code",
      "source": [
        "1 < 2 and 4 > 1 # True\n",
        "1 > 3 or 4 > 1  # True\n",
        "1 is not 4      # True\n",
        "not True        # False\n",
        "1 not in [2,3,4]# True\n",
        "\n",
        "if <condition that evaluates to boolean>:\n",
        "  # perform action1\n",
        "elif <condition that evaluates to boolean>:\n",
        "  # perform action2\n",
        "else:\n",
        "  # perform action3"
      ],
      "metadata": {
        "id": "kdKNGqQiEeaX"
      },
      "execution_count": null,
      "outputs": []
    },
    {
      "cell_type": "markdown",
      "source": [
        "## Examples"
      ],
      "metadata": {
        "id": "-vTTxvaHKNyJ"
      }
    },
    {
      "cell_type": "code",
      "source": [
        "print('a' > 'A')\n",
        "print('a' > 'b')\n",
        "print(1 < 2 < 3 < 4)\n",
        "print(1 < 2 > 3 < 4) # Short circuit after comparing 2 with 3\n",
        "print( not(True))"
      ],
      "metadata": {
        "colab": {
          "base_uri": "https://localhost:8080/"
        },
        "id": "mCMf077yGCTL",
        "outputId": "8d80df8e-8f93-4fd8-c32a-49c6427e1836"
      },
      "execution_count": 20,
      "outputs": [
        {
          "output_type": "stream",
          "name": "stdout",
          "text": [
            "True\n",
            "False\n",
            "True\n",
            "False\n",
            "False\n"
          ]
        }
      ]
    },
    {
      "cell_type": "code",
      "source": [
        "# == checks if value on the right is equal to the value on the left.\n",
        "# With different types on each side, python tries to convert both values in the same datatype and then compares them.\n",
        "print(True == 1)\n",
        "print('' == 0)\n",
        "print([] == 1)\n",
        "print(10 == 10.0)\n",
        "print([] == [])"
      ],
      "metadata": {
        "colab": {
          "base_uri": "https://localhost:8080/"
        },
        "id": "09FlZGtyGEhV",
        "outputId": "aef30f9c-be8f-4248-bc4a-3b02fe36e581"
      },
      "execution_count": 22,
      "outputs": [
        {
          "output_type": "stream",
          "name": "stdout",
          "text": [
            "True\n",
            "False\n",
            "False\n",
            "True\n",
            "True\n"
          ]
        }
      ]
    },
    {
      "cell_type": "code",
      "source": [
        "# is checks if both sides are located in the same memory location\n",
        "print(True is True) # For simple numbers, strings, booleans, they are located in the same memory location\n",
        "print(True is 1)\n",
        "print('' is '')\n",
        "print('' is 0)\n",
        "print([] is 1)\n",
        "print(10 is 10.0)\n",
        "print([] is []) # In case of lists, each list will have different memory location. This is equivalent to a = []; b= []; a is b"
      ],
      "metadata": {
        "colab": {
          "base_uri": "https://localhost:8080/"
        },
        "id": "82_2GwyMIKX7",
        "outputId": "716dabd0-2eba-4df5-ad2f-697758a706df"
      },
      "execution_count": 26,
      "outputs": [
        {
          "output_type": "stream",
          "name": "stdout",
          "text": [
            "True\n",
            "False\n",
            "True\n",
            "False\n",
            "False\n",
            "False\n",
            "False\n"
          ]
        },
        {
          "output_type": "stream",
          "name": "stderr",
          "text": [
            "<>:3: SyntaxWarning: \"is\" with a literal. Did you mean \"==\"?\n",
            "<>:4: SyntaxWarning: \"is\" with a literal. Did you mean \"==\"?\n",
            "<>:5: SyntaxWarning: \"is\" with a literal. Did you mean \"==\"?\n",
            "<>:6: SyntaxWarning: \"is\" with a literal. Did you mean \"==\"?\n",
            "<>:7: SyntaxWarning: \"is\" with a literal. Did you mean \"==\"?\n",
            "<>:3: SyntaxWarning: \"is\" with a literal. Did you mean \"==\"?\n",
            "<>:4: SyntaxWarning: \"is\" with a literal. Did you mean \"==\"?\n",
            "<>:5: SyntaxWarning: \"is\" with a literal. Did you mean \"==\"?\n",
            "<>:6: SyntaxWarning: \"is\" with a literal. Did you mean \"==\"?\n",
            "<>:7: SyntaxWarning: \"is\" with a literal. Did you mean \"==\"?\n",
            "<ipython-input-26-80bcb98050c2>:3: SyntaxWarning: \"is\" with a literal. Did you mean \"==\"?\n",
            "  print(True is 1)\n",
            "<ipython-input-26-80bcb98050c2>:4: SyntaxWarning: \"is\" with a literal. Did you mean \"==\"?\n",
            "  print('' is '')\n",
            "<ipython-input-26-80bcb98050c2>:5: SyntaxWarning: \"is\" with a literal. Did you mean \"==\"?\n",
            "  print('' is 0)\n",
            "<ipython-input-26-80bcb98050c2>:6: SyntaxWarning: \"is\" with a literal. Did you mean \"==\"?\n",
            "  print([] is 1)\n",
            "<ipython-input-26-80bcb98050c2>:7: SyntaxWarning: \"is\" with a literal. Did you mean \"==\"?\n",
            "  print(10 is 10.0)\n"
          ]
        }
      ]
    },
    {
      "cell_type": "markdown",
      "source": [
        "# Loops"
      ],
      "metadata": {
        "id": "qABdTPlcKTWW"
      }
    },
    {
      "cell_type": "markdown",
      "source": [
        "## break, continue, pass"
      ],
      "metadata": {
        "id": "owI9gutiWP-V"
      }
    },
    {
      "cell_type": "markdown",
      "source": [
        "In both For and While loops, we can use the following:\n",
        "\n",
        "* break: breaks out of the loop\n",
        "* continue: continues back to the loop condition check\n",
        "* pass: continues to the next line. It can be used as a placeholder for code within a loop. Rarely used in practice."
      ],
      "metadata": {
        "id": "PFzcX4V_VPXp"
      }
    },
    {
      "cell_type": "code",
      "source": [
        "for item in range(10):  # pass is used as placeholder for code\n",
        "  #TODO\n",
        "  pass\n",
        "\n",
        "for item in range(10):  # Raises Error\n",
        "  #TODO"
      ],
      "metadata": {
        "colab": {
          "base_uri": "https://localhost:8080/",
          "height": 143
        },
        "id": "97thF6eNVlqZ",
        "outputId": "8fcd252e-b7a3-4f32-93e6-ee0b20de0c98"
      },
      "execution_count": 37,
      "outputs": [
        {
          "output_type": "error",
          "ename": "SyntaxError",
          "evalue": "ignored",
          "traceback": [
            "\u001b[0;36m  File \u001b[0;32m\"<ipython-input-37-be2070b9ad72>\"\u001b[0;36m, line \u001b[0;32m6\u001b[0m\n\u001b[0;31m    #TODO\u001b[0m\n\u001b[0m          ^\u001b[0m\n\u001b[0;31mSyntaxError\u001b[0m\u001b[0;31m:\u001b[0m incomplete input\n"
          ]
        }
      ]
    },
    {
      "cell_type": "markdown",
      "source": [
        "## For Loop"
      ],
      "metadata": {
        "id": "XVFMw6pnN5J5"
      }
    },
    {
      "cell_type": "markdown",
      "source": [
        "For loop runs on iterables. Iterable could be list, tuple, set, dictionary, string or anything that can be iterated, i.e., go one by one and check each item in the collection."
      ],
      "metadata": {
        "id": "uFOXj_dyL7iP"
      }
    },
    {
      "cell_type": "code",
      "source": [
        "my_list = [1,2,3]\n",
        "my_tuple = (1,2,3)\n",
        "my_set = {1,2,3}\n",
        "my_list2 = [(1,2), (3,4), (5,6)]\n",
        "my_dict = {'a': 1, 'b': 2, 'c': 3}\n",
        "\n",
        "for num in my_list:\n",
        "    print(num) # 1, 2, 3\n",
        "\n",
        "for num in my_tuple:\n",
        "    print(num) # 1, 2, 3\n",
        "\n",
        "for num in my_set:\n",
        "    print(num) # 1, 2, 3\n",
        "\n",
        "for num in my_list2:\n",
        "    print(num) # (1,2), (3,4), (5,6)\n",
        "\n",
        "for num in '123':\n",
        "    print(num) # 1, 2, 3\n",
        "\n",
        "for item in 50: # Raises error since int is not iterable coz it's not a collection of items\n",
        "    print(item)\n",
        "\n",
        "for k,v in my_dict.items(): # Dictionary Unpacking\n",
        "    print(k) # 'a', 'b', 'c'\n",
        "    print(v) # 1, 2, 3\n",
        "\n"
      ],
      "metadata": {
        "id": "YgO3RaEYKW2B"
      },
      "execution_count": null,
      "outputs": []
    },
    {
      "cell_type": "markdown",
      "source": [
        "## While Loop"
      ],
      "metadata": {
        "id": "DEwtJvxpS_Dd"
      }
    },
    {
      "cell_type": "code",
      "source": [
        "while <condition that evaluates to boolean>:\n",
        "  # action\n",
        "  if <condition that evaluates to boolean>:\n",
        "    break # break out of while loop\n",
        "  if <condition that evaluates to boolean>:\n",
        "    continue # continue back to the while loop condition line\n",
        "else:\n",
        "  # action after while condition is false, i.e., the while loop is done.\n",
        "  # This is not run if while loop ended because of break statement.\n",
        "  # So, we can use else to run something if while loop is finished and not run if while loop ended because of break."
      ],
      "metadata": {
        "id": "ZNhptpKgTHh1"
      },
      "execution_count": null,
      "outputs": []
    },
    {
      "cell_type": "code",
      "source": [
        "i = 0\n",
        "while i < 50:\n",
        "  print(i)\n",
        "  break\n",
        "else:\n",
        "  print(\"Done\")"
      ],
      "metadata": {
        "colab": {
          "base_uri": "https://localhost:8080/"
        },
        "id": "eqI3ey5oTWC6",
        "outputId": "0f8564b2-0e1e-4ceb-9876-3113c0c40e73"
      },
      "execution_count": 35,
      "outputs": [
        {
          "output_type": "stream",
          "name": "stdout",
          "text": [
            "0\n"
          ]
        }
      ]
    },
    {
      "cell_type": "markdown",
      "source": [
        "##Range"
      ],
      "metadata": {
        "id": "sRPWM0zPN9ez"
      }
    },
    {
      "cell_type": "code",
      "source": [
        "range(10)          # range(0, 10) --> 0 to 9\n",
        "range(1,10)        # range(1, 10)\n",
        "list(range(0,10,2))# [0, 2, 4, 6, 8] (start, stop, step)\n",
        "\n",
        "# Variable name is _ here. It just shows that you don't care about variable name here.\n",
        "# You just wanted the loop to do something 10 times\n",
        "for _ in range(10):      # prints 0 to 9\n",
        "  print(_)\n",
        "\n",
        "for i in range(0,10,-1): # does nothing. similarly, range(10,0) will do nothing since default step is +1\n",
        "  print(i)\n",
        "\n",
        "for i in range(10,0,-1): # prints 10 to 1\n",
        "  print(i)"
      ],
      "metadata": {
        "colab": {
          "base_uri": "https://localhost:8080/"
        },
        "id": "B7sQygEGN1CN",
        "outputId": "e7ab0323-6e63-4957-bdb4-6994b3edf264"
      },
      "execution_count": 29,
      "outputs": [
        {
          "output_type": "stream",
          "name": "stdout",
          "text": [
            "0\n",
            "1\n",
            "2\n",
            "3\n",
            "4\n",
            "5\n",
            "6\n",
            "7\n",
            "8\n",
            "9\n",
            "10\n",
            "9\n",
            "8\n",
            "7\n",
            "6\n",
            "5\n",
            "4\n",
            "3\n",
            "2\n",
            "1\n"
          ]
        }
      ]
    },
    {
      "cell_type": "markdown",
      "source": [
        "## Enumerate"
      ],
      "metadata": {
        "id": "Y5yXErcrRh8R"
      }
    },
    {
      "cell_type": "markdown",
      "source": [
        "Enumerate indexes the iterable"
      ],
      "metadata": {
        "id": "XLe8gacJR489"
      }
    },
    {
      "cell_type": "code",
      "source": [
        "my_list = [1,2,3]\n",
        "for idx,value in enumerate(my_list): # it could have been string, list, set, tuple or any other iterable\n",
        "    print(idx) # get the index of the item\n",
        "    print(value) # get the value"
      ],
      "metadata": {
        "colab": {
          "base_uri": "https://localhost:8080/"
        },
        "id": "UFxob97ZORU3",
        "outputId": "a734a81e-7753-4fc6-98ae-46b33827a0ec"
      },
      "execution_count": 34,
      "outputs": [
        {
          "output_type": "stream",
          "name": "stdout",
          "text": [
            "0\n",
            "1\n",
            "1\n",
            "2\n",
            "2\n",
            "3\n"
          ]
        }
      ]
    },
    {
      "cell_type": "code",
      "source": [
        "my_dict = {'a': 1, 'b': 2, 'c': 3}\n",
        "for i,v in enumerate(my_dict):\n",
        "  print(i,v)"
      ],
      "metadata": {
        "colab": {
          "base_uri": "https://localhost:8080/"
        },
        "id": "hBzqL0BGQxrs",
        "outputId": "af8617e5-0ad3-4d18-c154-ce26870b7ed6"
      },
      "execution_count": 32,
      "outputs": [
        {
          "output_type": "stream",
          "name": "stdout",
          "text": [
            "0 a\n",
            "1 b\n",
            "2 c\n"
          ]
        }
      ]
    },
    {
      "cell_type": "markdown",
      "source": [
        "# Print a picture"
      ],
      "metadata": {
        "id": "T24aU8WigVUC"
      }
    },
    {
      "cell_type": "code",
      "source": [
        "picture = [\n",
        "    [0,0,0,1,0,0,0],\n",
        "    [0,0,1,1,1,0,0],\n",
        "    [0,1,1,1,1,1,0],\n",
        "    [1,1,1,1,1,1,1],\n",
        "    [0,0,0,1,0,0,0],\n",
        "    [0,0,0,1,0,0,0]\n",
        "]\n",
        "\n",
        "for row in picture:\n",
        "  for pixel in row:\n",
        "    if(pixel == 0):\n",
        "      print(' ', end = '')\n",
        "      # By default, print statement ends with '\\n' but\n",
        "      # we want each row to be printed in one line. so, overriding default for end param in print.\n",
        "    else:\n",
        "      print('*', end = '')\n",
        "  print('') # Need a new line (\\n) after every row."
      ],
      "metadata": {
        "colab": {
          "base_uri": "https://localhost:8080/"
        },
        "id": "QR71dTgwgXfU",
        "outputId": "cc798e35-df47-43cc-fccd-bb475a585de4"
      },
      "execution_count": 1,
      "outputs": [
        {
          "output_type": "stream",
          "name": "stdout",
          "text": [
            "   *   \n",
            "  ***  \n",
            " ***** \n",
            "*******\n",
            "   *   \n",
            "   *   \n"
          ]
        }
      ]
    },
    {
      "cell_type": "markdown",
      "source": [
        "# Check for Duplicates in a list without using set"
      ],
      "metadata": {
        "id": "K_9wammqiNcG"
      }
    },
    {
      "cell_type": "code",
      "source": [
        "my_list = ['a','b','c','c','d','d','n','n','n']\n",
        "\n",
        "duplicates = []\n",
        "\n",
        "for value in my_list:\n",
        "  if my_list.count(value) > 1 and value not in duplicates:\n",
        "    duplicates.append(value)\n",
        "\n",
        "print(duplicates)"
      ],
      "metadata": {
        "colab": {
          "base_uri": "https://localhost:8080/"
        },
        "id": "87__vLfEiTLh",
        "outputId": "6ed3acab-a6c3-4012-fd46-0fca0f61367a"
      },
      "execution_count": 3,
      "outputs": [
        {
          "output_type": "stream",
          "name": "stdout",
          "text": [
            "['c', 'd', 'n']\n"
          ]
        }
      ]
    },
    {
      "cell_type": "markdown",
      "source": [
        "# Functions"
      ],
      "metadata": {
        "id": "yv-UZyJQrs6U"
      }
    },
    {
      "cell_type": "code",
      "source": [
        "# parameters: name, greeting\n",
        "def say_hello(name,greeting):\n",
        "  print(f'Hello {name}! {greeting}')\n",
        "\n",
        "# Positional arguments: \"Gaurav\", \"How are you?\" --> These are positional arguments since their position matters when calling the function.\n",
        "say_hello(\"Gaurav\", \"How are you?\")\n",
        "\n",
        "# Keyword arguments --> Their position doesn't matter since we are explicitly telling python which argument is for what function parameter.\n",
        "say_hello(greeting = \"How are you?\", name = \"Gaurav\")\n",
        "\n",
        "# However, it's a bad practice to not use the order in which parameters are expected in the function.\n",
        "# because it makes it difficult for someone reading the code. So better to do it like below even if we decide to use keyword arguments\n",
        "say_hello(name = \"Gaurav\", greeting = \"How are you?\")"
      ],
      "metadata": {
        "colab": {
          "base_uri": "https://localhost:8080/"
        },
        "id": "EyIY6vUqiopt",
        "outputId": "6b1209ef-a30a-4ebb-88bf-37f6cab427ad"
      },
      "execution_count": 8,
      "outputs": [
        {
          "output_type": "stream",
          "name": "stdout",
          "text": [
            "Hello Gaurav! How are you?\n",
            "Hello Gaurav! How are you?\n",
            "Hello Gaurav! How are you?\n"
          ]
        }
      ]
    },
    {
      "cell_type": "code",
      "source": [
        "# Default parameters --> used if those arguments are not provided when calling the function\n",
        "def say_hello(name = \"Satan\", greeting = \"Welcome to Hell\"):\n",
        "  print(f'Hello {name}! {greeting}')\n",
        "\n",
        "say_hello()\n",
        "say_hello(\"Timmy\")\n",
        "say_hello(greeting=\"Go to Hell\")"
      ],
      "metadata": {
        "colab": {
          "base_uri": "https://localhost:8080/"
        },
        "id": "tZNsd-cFtvcQ",
        "outputId": "1c33c31f-bb6f-4ded-af39-57c0d4651af4"
      },
      "execution_count": 11,
      "outputs": [
        {
          "output_type": "stream",
          "name": "stdout",
          "text": [
            "Hello Satan! Welcome to Hell\n",
            "Hello Timmy! Welcome to Hell\n",
            "Hello Satan! Go to Hell\n"
          ]
        }
      ]
    },
    {
      "cell_type": "code",
      "source": [
        "# function inside function\n",
        "# return exits the function. so anything after return will not be executed.\n",
        "def sum(num1, num2):\n",
        "  def another_func(n1,n2):\n",
        "    return n1+n2\n",
        "  return another_func(num1,num2)\n",
        "  print(\"Hello\")\n",
        "\n",
        "print(sum(10,20))"
      ],
      "metadata": {
        "colab": {
          "base_uri": "https://localhost:8080/"
        },
        "id": "gzhwMzWWyNpk",
        "outputId": "5db95ffb-a385-46fa-e5a0-2df0ff28e0a7"
      },
      "execution_count": 15,
      "outputs": [
        {
          "output_type": "stream",
          "name": "stdout",
          "text": [
            "30\n"
          ]
        }
      ]
    },
    {
      "cell_type": "markdown",
      "source": [
        "**Docstring ('  ' ')**\n",
        "\n",
        "Used to provide info about the function. IDE can display that information in the function suggestion. It is also displayed when help(function) is called."
      ],
      "metadata": {
        "id": "TkOVtfF7HpVL"
      }
    },
    {
      "cell_type": "code",
      "source": [
        "def myfunc(a):\n",
        "  '''\n",
        "  Info: This function prints param a\n",
        "  '''\n",
        "  print(a)\n",
        "\n",
        "\n",
        "myfunc(\"aaaa\")\n",
        "\n",
        "help(myfunc)\n",
        "print(myfunc.__doc__)"
      ],
      "metadata": {
        "colab": {
          "base_uri": "https://localhost:8080/"
        },
        "id": "mdk7KcoxH0se",
        "outputId": "437637a3-ee6b-47b6-f9d5-c2db4c74b687"
      },
      "execution_count": 6,
      "outputs": [
        {
          "output_type": "stream",
          "name": "stdout",
          "text": [
            "aaaa\n",
            "Help on function myfunc in module __main__:\n",
            "\n",
            "myfunc(a)\n",
            "    Info: This function prints param a\n",
            "\n",
            "\n",
            "  Info: This function prints param a\n",
            "  \n"
          ]
        }
      ]
    },
    {
      "cell_type": "markdown",
      "source": [
        "**\\*args and \\*\\*kwargs**\n",
        "\n",
        "Splat (\\*) expands a collection into positional arguments, while splatty-splat (**) expands a dictionary into keyword arguments.\n",
        "\n"
      ],
      "metadata": {
        "id": "21o3G2VLFb0Q"
      }
    },
    {
      "cell_type": "code",
      "source": [
        "args   = (1, 2)\n",
        "kwargs = {'x': 3, 'y': 4, 'z': 5}\n",
        "some_func(*args, **kwargs) # same as some_func(1, 2, x=3, y=4, z=5)"
      ],
      "metadata": {
        "id": "FKmvIDFguFiV"
      },
      "execution_count": null,
      "outputs": []
    },
    {
      "cell_type": "markdown",
      "source": [
        "**\\* Inside Function Definition**\n",
        "\n",
        "Splat (\\*) combines zero or more positional arguments into a tuple, while splatty-splat (**) combines zero or more keyword arguments into a dictionary."
      ],
      "metadata": {
        "id": "KG8IinBiFwPv"
      }
    },
    {
      "cell_type": "code",
      "source": [
        "def add(*a):\n",
        "    return sum(a)\n",
        "\n",
        "add(1, 2, 3) # 6"
      ],
      "metadata": {
        "colab": {
          "base_uri": "https://localhost:8080/"
        },
        "id": "pOOMbyRRGAdb",
        "outputId": "64ddd623-b6a5-46eb-f0c0-0e73b44e1051"
      },
      "execution_count": 1,
      "outputs": [
        {
          "output_type": "execute_result",
          "data": {
            "text/plain": [
              "6"
            ]
          },
          "metadata": {},
          "execution_count": 1
        }
      ]
    },
    {
      "cell_type": "markdown",
      "source": [
        "**Ordering of parameters:**\n",
        "\n",
        "There is a rule about order of parameters defined. Allowed order is **param, \\*args, default parameters, \\*\\*kwargs**"
      ],
      "metadata": {
        "id": "ICHxakbKGQlT"
      }
    },
    {
      "cell_type": "code",
      "source": [
        "def f(*args):                  # f(1, 2, 3)\n",
        "def f(x, *args):               # f(1, 2, 3)\n",
        "def f(*args, z):               # f(1, 2, z=3)\n",
        "def f(x, *args, z):            # f(1, 2, z=3)\n",
        "\n",
        "def f(**kwargs):               # f(x=1, y=2, z=3)\n",
        "def f(x, **kwargs):            # f(x=1, y=2, z=3) | f(1, y=2, z=3)\n",
        "\n",
        "def f(*args, **kwargs):        # f(x=1, y=2, z=3) | f(1, y=2, z=3) | f(1, 2, z=3) | f(1, 2, 3)\n",
        "def f(x, *args, **kwargs):     # f(x=1, y=2, z=3) | f(1, y=2, z=3) | f(1, 2, z=3) | f(1, 2, 3)\n",
        "def f(*args, y, **kwargs):     # f(x=1, y=2, z=3) | f(1, y=2, z=3)\n",
        "def f(x, *args, z, **kwargs):  # f(x=1, y=2, z=3) | f(1, y=2, z=3) | f(1, 2, z=3)"
      ],
      "metadata": {
        "id": "4HsGRdGxGPUV"
      },
      "execution_count": null,
      "outputs": []
    },
    {
      "cell_type": "code",
      "source": [
        "def f(x, *args, z, **kwargs):\n",
        "  print(x, args, z, kwargs)\n",
        "\n",
        "#f(1,2,3,4,5,6,y=2) # Raises error since z is keyword-only argument which is not provided here.\n",
        "f(1,2,3,4,5,6,y=2, z = 3)"
      ],
      "metadata": {
        "colab": {
          "base_uri": "https://localhost:8080/"
        },
        "id": "U53YOJaCLl_R",
        "outputId": "6812b1e8-e740-47e7-b38f-f47c24c7c39b"
      },
      "execution_count": 10,
      "outputs": [
        {
          "output_type": "stream",
          "name": "stdout",
          "text": [
            "1 (2, 3, 4, 5, 6) 3 {'y': 2}\n"
          ]
        }
      ]
    },
    {
      "cell_type": "markdown",
      "source": [
        "Other Uses of splat(\\*)"
      ],
      "metadata": {
        "id": "FJHESrtcGdVq"
      }
    },
    {
      "cell_type": "code",
      "source": [
        "[*[1,2,3], *[4]]                # [1, 2, 3, 4]\n",
        "{*[1,2,3], *[4]}                # {1, 2, 3, 4}\n",
        "(*[1,2,3], *[4])                # (1, 2, 3, 4)\n",
        "{**{'a': 1, 'b': 2}, **{'c': 3}}# {'a': 1, 'b': 2, 'c': 3}"
      ],
      "metadata": {
        "colab": {
          "base_uri": "https://localhost:8080/"
        },
        "id": "pKD2_ijcGrgO",
        "outputId": "650bfc3d-4e7a-4c24-ff6b-9831879fa470"
      },
      "execution_count": 3,
      "outputs": [
        {
          "output_type": "execute_result",
          "data": {
            "text/plain": [
              "{'a': 1, 'b': 2, 'c': 3}"
            ]
          },
          "metadata": {},
          "execution_count": 3
        }
      ]
    },
    {
      "cell_type": "code",
      "source": [
        "head, *body, tail = [1,2,3,4,5]"
      ],
      "metadata": {
        "id": "BXCbK2aEHAsY"
      },
      "execution_count": 2,
      "outputs": []
    },
    {
      "cell_type": "code",
      "source": [
        "def highest_even(li):\n",
        "  '''\n",
        "  returns highest even number from a given list\n",
        "  '''\n",
        "  evens = []\n",
        "  for item in li:\n",
        "    if item % 2 == 0:\n",
        "      evens.append(item)\n",
        "  return max(evens)\n",
        "\n",
        "print(highest_even([2,10,4,6,8,11]))"
      ],
      "metadata": {
        "colab": {
          "base_uri": "https://localhost:8080/"
        },
        "id": "Is-0AhnnHKce",
        "outputId": "f0a7b985-ad29-44c0-a2cf-a28bef198830"
      },
      "execution_count": 13,
      "outputs": [
        {
          "output_type": "stream",
          "name": "stdout",
          "text": [
            "10\n"
          ]
        }
      ]
    },
    {
      "cell_type": "markdown",
      "source": [
        "#Map, Filter, Reduce"
      ],
      "metadata": {
        "id": "5oFSWfAxKO19"
      }
    },
    {
      "cell_type": "code",
      "source": [
        "list(map(lambda x: x + 1, range(10)))            # [1, 2, 3, 4, 5, 6, 7, 8, 9,10]\n",
        "list(filter(lambda x: x > 5, range(10)))         # (6, 7, 8, 9) --> input function"
      ],
      "metadata": {
        "colab": {
          "base_uri": "https://localhost:8080/"
        },
        "id": "f6C5JbLbKScZ",
        "outputId": "1908f5a0-f7a9-4403-c3f8-8b0ebc6659e5"
      },
      "execution_count": 4,
      "outputs": [
        {
          "output_type": "execute_result",
          "data": {
            "text/plain": [
              "[6, 7, 8, 9]"
            ]
          },
          "metadata": {},
          "execution_count": 4
        }
      ]
    },
    {
      "cell_type": "markdown",
      "source": [
        "Reduce:  \n",
        "\n",
        "* At first step, first two elements of sequence are picked and the result is obtained.\n",
        "\n",
        "* Next step is to apply the same function to the previously attained result and the number just succeeding the second element and the result is again stored.\n",
        "\n",
        "* This process continues till no more elements are left in the container.\n",
        "* The final returned result is returned and printed on console."
      ],
      "metadata": {
        "id": "mvIiRLk6KU7W"
      }
    },
    {
      "cell_type": "code",
      "source": [
        "from functools import reduce\n",
        "reduce(lambda acc, x: acc + x, range(10))               # 45\n",
        "reduce(lambda a, b: a if a > b else b, [1, 3, 5, 6, 2]) # 6"
      ],
      "metadata": {
        "colab": {
          "base_uri": "https://localhost:8080/"
        },
        "id": "fuZj0CMZKvwc",
        "outputId": "147c9427-65e5-41ff-92a6-8583ad72d0e2"
      },
      "execution_count": 5,
      "outputs": [
        {
          "output_type": "execute_result",
          "data": {
            "text/plain": [
              "6"
            ]
          },
          "metadata": {},
          "execution_count": 5
        }
      ]
    },
    {
      "cell_type": "markdown",
      "source": [
        "#Walrus Operator (:=)"
      ],
      "metadata": {
        "id": "gBlDCQHhMtHU"
      }
    },
    {
      "cell_type": "markdown",
      "source": [
        "Released in python 3.8\n",
        "\n",
        "Walrus operator assigns values to variables as part of a larger expression. It helps avoid evaluating an expression twice."
      ],
      "metadata": {
        "id": "VK5xkP6qNqMN"
      }
    },
    {
      "cell_type": "code",
      "source": [
        "a = \"hellooooooo\"\n",
        "\n",
        "# Let's say we want to do below. Here, we are evaluating len(a) twice.\n",
        "if(len(a) > 5):\n",
        "  print(f'length {len(a)} is too long')\n",
        "\n",
        "# Using Walrus operator, we can avoid evaluating len(a) twice by assigning it to n when evaluating it the first time as part of condition expression evaluation\n",
        "if((n:=len(a)) > 5):\n",
        "  print(f'length {n} is too long')"
      ],
      "metadata": {
        "colab": {
          "base_uri": "https://localhost:8080/"
        },
        "id": "jUp8VM0hNU0U",
        "outputId": "277d2ca6-78fe-4c7a-d12d-13cd9d51fbc0"
      },
      "execution_count": 2,
      "outputs": [
        {
          "output_type": "stream",
          "name": "stdout",
          "text": [
            "length 11 is too long\n",
            "length 11 is too long\n"
          ]
        }
      ]
    },
    {
      "cell_type": "code",
      "source": [
        "while (n := len(a)) > 1:\n",
        "  print(n)\n",
        "  a = a[:-1]"
      ],
      "metadata": {
        "colab": {
          "base_uri": "https://localhost:8080/"
        },
        "id": "0JCDKhzWPPCC",
        "outputId": "f59f3339-649d-4867-ee26-9fa6e295b747"
      },
      "execution_count": 3,
      "outputs": [
        {
          "output_type": "stream",
          "name": "stdout",
          "text": [
            "11\n",
            "10\n",
            "9\n",
            "8\n",
            "7\n",
            "6\n",
            "5\n",
            "4\n",
            "3\n",
            "2\n"
          ]
        }
      ]
    },
    {
      "cell_type": "markdown",
      "source": [
        "#Scope"
      ],
      "metadata": {
        "id": "Vgeet_x8AWsQ"
      }
    },
    {
      "cell_type": "markdown",
      "source": [
        "Which variables do I have access to?\n",
        "\n",
        "Rule:\n",
        "\n",
        "\n",
        "1.   First, check if it exists in local scope\n",
        "2.   If not, check parent local scope\n",
        "3.   If not, check global scope\n",
        "4.   If not, check python built-in functions\n",
        "\n"
      ],
      "metadata": {
        "id": "wjOhhzkbBL4g"
      }
    },
    {
      "cell_type": "code",
      "source": [
        "a = 1\n",
        "\n",
        "def confusion():\n",
        "  a = 5\n",
        "  return a # returns a from local scope, i.e., 5. Doesn't impact global scope\n",
        "\n",
        "print(a)\n",
        "print(confusion())"
      ],
      "metadata": {
        "colab": {
          "base_uri": "https://localhost:8080/"
        },
        "id": "YlmegX3xAXxQ",
        "outputId": "37919eac-5bbe-4246-dcd1-597e34801d49"
      },
      "execution_count": 4,
      "outputs": [
        {
          "output_type": "stream",
          "name": "stdout",
          "text": [
            "1\n",
            "5\n"
          ]
        }
      ]
    },
    {
      "cell_type": "code",
      "source": [
        "a = 1\n",
        "\n",
        "def parent():\n",
        "  a = 10\n",
        "  def confusion():\n",
        "    return a # returns a from parent local scope, i.e., 10. Doesn't impact global scope\n",
        "  return confusion()\n",
        "\n",
        "print(a)\n",
        "print(parent())"
      ],
      "metadata": {
        "colab": {
          "base_uri": "https://localhost:8080/"
        },
        "id": "cdapOh2cAi0S",
        "outputId": "b13e42a8-60e4-48a9-b47b-0b595e712c63"
      },
      "execution_count": 5,
      "outputs": [
        {
          "output_type": "stream",
          "name": "stdout",
          "text": [
            "1\n",
            "10\n"
          ]
        }
      ]
    },
    {
      "cell_type": "code",
      "source": [
        "a = 1\n",
        "\n",
        "def parent():\n",
        "  def confusion():\n",
        "    return a # returns a from global scope, i.e., 1 because there is no a in local or parent local scope\n",
        "  return confusion()\n",
        "\n",
        "print(a)\n",
        "print(parent())"
      ],
      "metadata": {
        "colab": {
          "base_uri": "https://localhost:8080/"
        },
        "id": "57FQS_o4CBxU",
        "outputId": "92d3f3fc-8535-48d4-966c-7065e982ede1"
      },
      "execution_count": 6,
      "outputs": [
        {
          "output_type": "stream",
          "name": "stdout",
          "text": [
            "1\n",
            "1\n"
          ]
        }
      ]
    },
    {
      "cell_type": "code",
      "source": [
        "a = 1\n",
        "\n",
        "def parent():\n",
        "  def confusion():\n",
        "    return sum # returns sum from python built-in function because there is no sum in local, parent local or global scope\n",
        "  return confusion()\n",
        "\n",
        "print(a)\n",
        "print(parent())"
      ],
      "metadata": {
        "colab": {
          "base_uri": "https://localhost:8080/"
        },
        "id": "7jLSCGbGCfw8",
        "outputId": "86cb0ba8-3409-4dbf-a7b7-cfb0d9986f43"
      },
      "execution_count": 7,
      "outputs": [
        {
          "output_type": "stream",
          "name": "stdout",
          "text": [
            "1\n",
            "<built-in function sum>\n"
          ]
        }
      ]
    },
    {
      "cell_type": "markdown",
      "source": [
        "## global Keyword"
      ],
      "metadata": {
        "id": "36WO80riEm-q"
      }
    },
    {
      "cell_type": "code",
      "source": [
        "# Access global variable in local scope\n",
        "\n",
        "total = 0\n",
        "\n",
        "def count():\n",
        "  global total # if we dont have this line, it will raise an error because total doesn't exist in local scope\n",
        "  total += 1\n",
        "  return total\n",
        "\n",
        "count()\n",
        "count()\n",
        "count()\n",
        "count()\n",
        "print(total)"
      ],
      "metadata": {
        "colab": {
          "base_uri": "https://localhost:8080/"
        },
        "id": "sH_utVnUDLyZ",
        "outputId": "ab2c4a59-9292-4856-fbce-c48c7901054d"
      },
      "execution_count": 10,
      "outputs": [
        {
          "output_type": "stream",
          "name": "stdout",
          "text": [
            "4\n"
          ]
        }
      ]
    },
    {
      "cell_type": "code",
      "source": [
        "# However, it's not a good coding practice to access and modify variables from different scopes in most scenarios since it gets confusing.\n",
        "# So, better way of doing this could be:\n",
        "\n",
        "total = 0\n",
        "\n",
        "def count(total):\n",
        "  total += 1\n",
        "  return total\n",
        "\n",
        "total = count(total)\n",
        "total = count(total)\n",
        "total = count(total)\n",
        "total = count(total)\n",
        "print(total)\n"
      ],
      "metadata": {
        "colab": {
          "base_uri": "https://localhost:8080/"
        },
        "id": "-VH2N787DbtF",
        "outputId": "23075b96-9bd6-4406-c4fa-ac884025f690"
      },
      "execution_count": 11,
      "outputs": [
        {
          "output_type": "stream",
          "name": "stdout",
          "text": [
            "4\n"
          ]
        }
      ]
    },
    {
      "cell_type": "markdown",
      "source": [
        "## nonlocal Keyword"
      ],
      "metadata": {
        "id": "HWSzIOZqErVt"
      }
    },
    {
      "cell_type": "markdown",
      "source": [
        "nonlocal is used to access variables outside of local scope but not in global scope. so, to access variables from any parent local scope.\n",
        "\n",
        "Again, it's not a good practice to use this in most of the scenarios to avoid any confusion.\n",
        "\n"
      ],
      "metadata": {
        "id": "-uRDaCLtFaSs"
      }
    },
    {
      "cell_type": "code",
      "source": [
        "def get_counter():\n",
        "    i = 0\n",
        "    def out():\n",
        "        nonlocal i # access i from parent local scope\n",
        "        i += 1\n",
        "        return i\n",
        "    return out\n",
        "\n",
        "counter = get_counter()\n",
        "print(counter(), counter(), counter())"
      ],
      "metadata": {
        "colab": {
          "base_uri": "https://localhost:8080/"
        },
        "id": "oYfnAQWgEuna",
        "outputId": "3273fe79-2281-4b94-d24b-a87c1bc2174b"
      },
      "execution_count": 18,
      "outputs": [
        {
          "output_type": "stream",
          "name": "stdout",
          "text": [
            "1 2 3\n"
          ]
        }
      ]
    },
    {
      "cell_type": "markdown",
      "source": [
        "## Why do we need scope?"
      ],
      "metadata": {
        "id": "kZWW_XNvHrP7"
      }
    },
    {
      "cell_type": "markdown",
      "source": [
        "It would have been great to have all variables as global variables without worrying about who has access to who. But, that will occupy a lot of memory.\n",
        "\n",
        "For example, once the function call is finished, all the local function variables are destroyed and that memory is freed up. If we didn't have the local scope, those variables would still occupy memory.\n",
        "\n",
        "In case of non-local example, we are using the same variable in both parent and inner function, so it doesn't need to assign memory to two separate variables.\n",
        "\n",
        "All of this matters once the code gets very big and we have a lot of variables taking up memory."
      ],
      "metadata": {
        "id": "lQJHl9-_HvpM"
      }
    },
    {
      "cell_type": "code",
      "source": [],
      "metadata": {
        "id": "Vrc-L_fVF8Xh"
      },
      "execution_count": null,
      "outputs": []
    }
  ]
}