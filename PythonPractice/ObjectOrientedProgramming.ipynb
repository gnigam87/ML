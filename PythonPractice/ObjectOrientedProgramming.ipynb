{
 "cells": [
  {
   "cell_type": "code",
   "execution_count": 2,
   "metadata": {},
   "outputs": [
    {
     "name": "stdout",
     "output_type": "stream",
     "text": [
      "<class 'int'>\n",
      "<class 'function'>\n"
     ]
    }
   ],
   "source": [
    "# We are already using classes in python without knowing\n",
    "# Notice the word \"class\" when we look at the type of a variable\n",
    "\n",
    "# So, here, we are creating a variable x of class \"int\" with value 1\n",
    "x = 1\n",
    "print(type(x)) # --> <class 'int'> \n",
    "\n",
    "#Here, we are creating a function from class \"function\"\n",
    "def hello():\n",
    "    print(\"Hello\")\n",
    "\n",
    "print(type(hello)) # --> <class 'function'> "
   ]
  },
  {
   "cell_type": "markdown",
   "metadata": {},
   "source": [
    "Let's create a class with a method\n",
    "\n",
    "Method is just a function inside a class definition\n",
    "\n",
    "For example, string.upper() has \"upper()\" method for string obejcts."
   ]
  },
  {
   "cell_type": "code",
   "execution_count": 12,
   "metadata": {},
   "outputs": [
    {
     "name": "stdout",
     "output_type": "stream",
     "text": [
      "Timmy\n",
      "Billy\n",
      "My name is:  Timmy\n",
      "My name is:  Billy\n",
      "<class '__main__.Dog'>\n",
      "bark\n",
      "6\n"
     ]
    }
   ],
   "source": [
    "class Dog: \n",
    "    def __init__(self, dog_name): # this method is called whenever a new object of class is created.\n",
    "        self.name = dog_name # Storing the passed value \"dog_name\" as class attribute \"name\"\n",
    "        print(dog_name) # notice how this gets printed out when we create the object without us calling the print.\n",
    "\n",
    "    def bark(self):\n",
    "        print(\"bark\")\n",
    "\n",
    "    def add_one(self,x):\n",
    "        return x+1\n",
    "\n",
    "d = Dog(\"Timmy\") # Create an instance of class Dog\n",
    "d2 = Dog(\"Billy\") # Create another instance and notice that the __init__ is called again with different name.\n",
    "# So, each class object has it's own attribute name\n",
    "print(\"My name is: \", d.name)\n",
    "print(\"My name is: \", d2.name)\n",
    "print(type(d)) #--> <class '__main__.Dog'>\n",
    "d.bark() # Call the method bark of class Dog --> prints \"bark\"\n",
    "\n",
    "print(d.add_one(5)) # Call the method add_one of class Dog which returns 6"
   ]
  },
  {
   "cell_type": "markdown",
   "metadata": {},
   "source": [
    "Let's define methods to get the attributes rather than directly saying d.name"
   ]
  },
  {
   "cell_type": "code",
   "execution_count": 13,
   "metadata": {},
   "outputs": [
    {
     "name": "stdout",
     "output_type": "stream",
     "text": [
      "23\n"
     ]
    }
   ],
   "source": [
    "class Dog:\n",
    "    def __init__(self, name, age):\n",
    "        self.name = name\n",
    "        self.age = age\n",
    "\n",
    "    def get_name(self):\n",
    "        return self.name\n",
    "\n",
    "    def get_age(self):\n",
    "        return self.age\n",
    "\n",
    "    def set_age(self, age):\n",
    "        self.age = age\n",
    "\n",
    "d = Dog(\"Timmy\", 34)\n",
    "d.set_age(23)\n",
    "print(d.get_age())\n"
   ]
  },
  {
   "cell_type": "markdown",
   "metadata": {},
   "source": [
    "Why use class?"
   ]
  },
  {
   "cell_type": "code",
   "execution_count": null,
   "metadata": {},
   "outputs": [],
   "source": [
    "# Instead of creating two instances of Dog class, we could have done below\n",
    "dog1_name = \"Timmy\"\n",
    "dog1_age = 34\n",
    "dog2_name = \"Billy\"\n",
    "dog2_age = 12\n",
    "\n",
    "# But it's hard to do this if we want to define 25000 Dog instances."
   ]
  },
  {
   "cell_type": "code",
   "execution_count": null,
   "metadata": {},
   "outputs": [],
   "source": [
    "# We could also have done something like below\n",
    "dog_names = [\"Timmy\",\"Billy\"]\n",
    "dog_ages = [34, 12]\n",
    "\n",
    "# If we have 25000 dogs, this list gets really large. So, if I need to get the age of Dog named \"Billy\", we will have to:\n",
    "# 1. Find the index of \"Billy\" in dog_names list which will take some time\n",
    "# 2. Then access that index in dog_ages list.\n",
    "# It gets worse to manage if we have a lot of attributes for each dog and we want to add or delete some of the dogs.\n",
    "# fo deletion, we will have to find the index and then go to each list of attribute and delete that index.\n",
    "\n",
    "# This is where Object Oriented Programming makes things like this easier and we reuse all the methods and attributes for all objects.\n"
   ]
  },
  {
   "cell_type": "markdown",
   "metadata": {},
   "source": [
    "Let's create more complex classes for a school system"
   ]
  },
  {
   "cell_type": "code",
   "execution_count": 17,
   "metadata": {},
   "outputs": [
    {
     "name": "stdout",
     "output_type": "stream",
     "text": [
      "Timmy\n",
      "85.0\n",
      "False\n",
      "85.0\n"
     ]
    }
   ],
   "source": [
    "class Student:\n",
    "    def __init__(self, name, age, grade):\n",
    "        self.name = name\n",
    "        self.age = age\n",
    "        self.grade = grade # 0-100\n",
    "\n",
    "    def get_grade(self):\n",
    "        return self.grade\n",
    "\n",
    "class Course:\n",
    "    def __init__(self, name, max_students):\n",
    "        self.name = name\n",
    "        self.max_students = max_students\n",
    "        self.students = [] # Notice that this attribute doesn't get assigned during initialization by passing the arguments in object creation\n",
    "\n",
    "    def add_student(self, student):\n",
    "        if len(self.students) < self.max_students:\n",
    "            self.students.append(student)\n",
    "            return True\n",
    "        return False # Returning boolean so that we can have a program later to do something if course is already full.\n",
    "\n",
    "    def get_average_grade(self): # Method to get average grade of the course\n",
    "        value = 0\n",
    "        for student in self.students:\n",
    "            value += student.get_grade() # We could have also called student.grade but calling method so that it dosn't break in case attribute name is changed.\n",
    "        return value/len(self.students)\n",
    "\n",
    "# Creating some Student objects\n",
    "s1 = Student(\"Timmy\", 19, 95)\n",
    "s2 = Student(\"Billy\", 19, 75)\n",
    "s3 = Student(\"Emily\", 19, 65)\n",
    "\n",
    "# Create a Course object with max_students = 2, so that we can also show add_student failing\n",
    "course = Course(\"Science\", 2)\n",
    "course.add_student(s1)\n",
    "course.add_student(s2)\n",
    "\n",
    "print(course.students[0].name) # Just checking if everything worked fine\n",
    "\n",
    "print(course.get_average_grade()) # --> 85.0\n",
    "\n",
    "# if we try to add the 3rd student, add_student returns False and average grade doesn't change, as expected because we had set max_students = 2 for this course.\n",
    "print(course.add_student(s3))\n",
    "print(course.get_average_grade()) # --> 85.0"
   ]
  },
  {
   "cell_type": "markdown",
   "metadata": {},
   "source": [
    "Let's talk about Inheritance"
   ]
  },
  {
   "cell_type": "code",
   "execution_count": null,
   "metadata": {},
   "outputs": [],
   "source": [
    "# Let's say we have two classes Dog and Cat. Only difference is their Speak() method as below\n",
    "\n",
    "# There must be a way so that we don't have to re-write the rest of the class definition twice.\n",
    "\n",
    "# This is where Inheritance comes in where all the classes inherit an upper level class with common definitions and then we only need to define the different parts in individual classes.\n",
    "\n",
    "class Dog:\n",
    "    def __init__(self, name, age):\n",
    "        self.name = name\n",
    "        self.age = age\n",
    "\n",
    "    def speak(self):\n",
    "        print(\"bark\")\n",
    "\n",
    "class Cat:\n",
    "    def __init__(self, name, age):\n",
    "        self.name = name\n",
    "        self.age = age\n",
    "\n",
    "    def speak(self):\n",
    "        print(\"meow\")"
   ]
  },
  {
   "cell_type": "code",
   "execution_count": 22,
   "metadata": {},
   "outputs": [
    {
     "name": "stdout",
     "output_type": "stream",
     "text": [
      "I am Timmy and I am 19 years old\n",
      "I am Billy and I am 34 years old\n",
      "I am Emily and I am 25 years old\n",
      "I don't know how to speak\n",
      "meow\n",
      "bark\n",
      "I don't know how to speak\n"
     ]
    }
   ],
   "source": [
    "# So, instead of repeating the class definitions, we use Inheritance as below.\n",
    "\n",
    "# Here, Pet is called \"Parent\" class and  Cat, Dog, and Fish are called \"Child\" classes or \"Derived\" classes\n",
    "\n",
    "class Pet: # Upper class with common definitions\n",
    "    def __init__(self, name, age):\n",
    "        self.name = name\n",
    "        self.age = age\n",
    "\n",
    "    def show(self):\n",
    "        print(f\"I am {self.name} and I am {self.age} years old\")\n",
    "\n",
    "    def speak(self): # We dont have to define this. But if we define this, Cat and Dog classes override it. Also, if any child class doesn't define this method (for example, Fish), it can use this method to speak.\n",
    "        print(\"I don't know how to speak\")\n",
    "\n",
    "class Dog(Pet): # --> Dog class inherits all the methods and attributes from Pet class\n",
    "    def speak(self):\n",
    "        print(\"bark\")\n",
    "\n",
    "class Cat(Pet): # --> Cat class inherits all the methods and attributes from Pet class\n",
    "    def speak(self):\n",
    "        print(\"meow\")\n",
    "\n",
    "class Fish(Pet):\n",
    "    pass\n",
    "\n",
    "p = Pet(\"Timmy\", 19)\n",
    "p.show()\n",
    "\n",
    "c = Cat(\"Billy\", 34) # It uses the __init__ method of Pet class\n",
    "c.show() # Cat object inherits show method from Pet class, even though we didn't define it in Cat class\n",
    "\n",
    "d = Dog(\"Emily\", 25)\n",
    "d.show()\n",
    "\n",
    "# Notice that speak methods for Cat and Dog prints different outcomes based on their class because we defined different speak methods for each class\n",
    "p.speak()\n",
    "c.speak()\n",
    "d.speak()\n",
    "\n",
    "# Notice Fish class object takes the speak method from Pet class\n",
    "f = Fish(\"Bubbles\", 10)\n",
    "f.speak()"
   ]
  },
  {
   "cell_type": "markdown",
   "metadata": {},
   "source": [
    "Let's say we want to have more attributes in the Child class. It can be done as below"
   ]
  },
  {
   "cell_type": "code",
   "execution_count": 23,
   "metadata": {},
   "outputs": [
    {
     "name": "stdout",
     "output_type": "stream",
     "text": [
      "I am Billy and I am 34 years old and I am brown color\n"
     ]
    }
   ],
   "source": [
    "class Cat(Pet):\n",
    "    def __init__(self, name, age, color):\n",
    "        super().__init__(name,age) # super() references the Parent class and then we call it's __init__ method so that we don't redefine how to handle name and age values.\n",
    "        # Parent class could be calling some function or database to set the attributes, so we don't want to change that here, unless needed.\n",
    "        self.color = color\n",
    "\n",
    "    def show(self):\n",
    "        print(f\"I am {self.name} and I am {self.age} years old and I am {self.color} color\")\n",
    "\n",
    "    def speak(self):\n",
    "        print(\"meow\")\n",
    "\n",
    "c = Cat(\"Billy\", 34, \"brown\")\n",
    "c.show()\n",
    "    "
   ]
  },
  {
   "cell_type": "markdown",
   "metadata": {},
   "source": [
    "Class Attributes"
   ]
  },
  {
   "cell_type": "code",
   "execution_count": 24,
   "metadata": {},
   "outputs": [
    {
     "name": "stdout",
     "output_type": "stream",
     "text": [
      "0\n",
      "0\n"
     ]
    }
   ],
   "source": [
    "# Class attributes are defined outside of it's methods. These attributes are not tied to an instance and it's value is common to all instances.\n",
    "class Person:\n",
    "    number_of_people = 0\n",
    "\n",
    "    def __init__(self, name) -> None:\n",
    "        self.name = name\n",
    "\n",
    "p1 = Person(\"tim\")\n",
    "p2 = Person(\"jill\")\n",
    "\n",
    "# As class attributes are common to all instances, we can write:\n",
    "print(p1.number_of_people)\n",
    "# We can also directly call it as below since it's not tied to any instance\n",
    "print(Person.number_of_people)\n",
    "\n"
   ]
  }
 ],
 "metadata": {
  "kernelspec": {
   "display_name": "Python 3",
   "language": "python",
   "name": "python3"
  },
  "language_info": {
   "codemirror_mode": {
    "name": "ipython",
    "version": 3
   },
   "file_extension": ".py",
   "mimetype": "text/x-python",
   "name": "python",
   "nbconvert_exporter": "python",
   "pygments_lexer": "ipython3",
   "version": "3.10.13"
  }
 },
 "nbformat": 4,
 "nbformat_minor": 2
}
