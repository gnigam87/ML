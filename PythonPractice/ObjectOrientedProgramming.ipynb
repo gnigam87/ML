{
  "cells": [
    {
      "cell_type": "markdown",
      "source": [
        "#Introduction to Class"
      ],
      "metadata": {
        "id": "y_zlxK1gnf1F"
      }
    },
    {
      "cell_type": "code",
      "execution_count": null,
      "metadata": {
        "id": "EbN0OT43mlZD",
        "outputId": "56f5fc18-d087-4c95-9081-c2249c5d6fc4"
      },
      "outputs": [
        {
          "name": "stdout",
          "output_type": "stream",
          "text": [
            "<class 'int'>\n",
            "<class 'function'>\n"
          ]
        }
      ],
      "source": [
        "# We are already using classes in python without knowing\n",
        "# Notice the word \"class\" when we look at the type of a variable\n",
        "\n",
        "# So, here, we are creating a variable x of class \"int\" with value 1\n",
        "x = 1\n",
        "print(type(x)) # --> <class 'int'>\n",
        "\n",
        "#Here, we are creating a function from class \"function\"\n",
        "def hello():\n",
        "    print(\"Hello\")\n",
        "\n",
        "print(type(hello)) # --> <class 'function'>"
      ]
    },
    {
      "cell_type": "markdown",
      "metadata": {
        "id": "trpL-ULnmlZG"
      },
      "source": [
        "Let's create a class with a method\n",
        "\n",
        "Method is just a function inside a class definition\n",
        "\n",
        "For example, string.upper() has \"upper()\" method for string obejcts."
      ]
    },
    {
      "cell_type": "code",
      "execution_count": null,
      "metadata": {
        "id": "ps5rLOpMmlZI",
        "outputId": "92a98e15-2d5e-4e1d-b4b0-6f9bd8462d63"
      },
      "outputs": [
        {
          "name": "stdout",
          "output_type": "stream",
          "text": [
            "Timmy\n",
            "Billy\n",
            "My name is:  Timmy\n",
            "My name is:  Billy\n",
            "<class '__main__.Dog'>\n",
            "bark\n",
            "6\n"
          ]
        }
      ],
      "source": [
        "class Dog:\n",
        "    def __init__(self, dog_name): # this method is called whenever a new object of class is created.\n",
        "        self.name = dog_name # Storing the passed value \"dog_name\" as class attribute \"name\"\n",
        "        print(dog_name) # notice how this gets printed out when we create the object without us calling the print.\n",
        "\n",
        "    def bark(self):\n",
        "        print(\"bark\")\n",
        "\n",
        "    def add_one(self,x):\n",
        "        return x+1\n",
        "\n",
        "d = Dog(\"Timmy\") # Create an instance of class Dog\n",
        "d2 = Dog(\"Billy\") # Create another instance and notice that the __init__ is called again with different name.\n",
        "# So, each class object has it's own attribute name\n",
        "print(\"My name is: \", d.name)\n",
        "print(\"My name is: \", d2.name)\n",
        "print(type(d)) #--> <class '__main__.Dog'>\n",
        "d.bark() # Call the method bark of class Dog --> prints \"bark\"\n",
        "\n",
        "print(d.add_one(5)) # Call the method add_one of class Dog which returns 6"
      ]
    },
    {
      "cell_type": "markdown",
      "metadata": {
        "id": "WdEullhCmlZJ"
      },
      "source": [
        "Let's define methods to get the attributes rather than directly saying d.name"
      ]
    },
    {
      "cell_type": "code",
      "execution_count": null,
      "metadata": {
        "id": "aHwy-b_4mlZJ",
        "outputId": "65bc9cd7-2ca8-4e69-b8fd-52f2ade1ec52"
      },
      "outputs": [
        {
          "name": "stdout",
          "output_type": "stream",
          "text": [
            "23\n"
          ]
        }
      ],
      "source": [
        "class Dog:\n",
        "    def __init__(self, name, age):\n",
        "        self.name = name\n",
        "        self.age = age\n",
        "\n",
        "    def get_name(self):\n",
        "        return self.name\n",
        "\n",
        "    def get_age(self):\n",
        "        return self.age\n",
        "\n",
        "    def set_age(self, age):\n",
        "        self.age = age\n",
        "\n",
        "d = Dog(\"Timmy\", 34)\n",
        "d.set_age(23)\n",
        "print(d.get_age())\n"
      ]
    },
    {
      "cell_type": "markdown",
      "metadata": {
        "id": "Urb3y9ramlZK"
      },
      "source": [
        "Why use class?"
      ]
    },
    {
      "cell_type": "code",
      "execution_count": null,
      "metadata": {
        "id": "iLY7w1qbmlZK"
      },
      "outputs": [],
      "source": [
        "# Instead of creating two instances of Dog class, we could have done below\n",
        "dog1_name = \"Timmy\"\n",
        "dog1_age = 34\n",
        "dog2_name = \"Billy\"\n",
        "dog2_age = 12\n",
        "\n",
        "# But it's hard to do this if we want to define 25000 Dog instances."
      ]
    },
    {
      "cell_type": "code",
      "execution_count": null,
      "metadata": {
        "id": "pZyeI9UPmlZL"
      },
      "outputs": [],
      "source": [
        "# We could also have done something like below\n",
        "dog_names = [\"Timmy\",\"Billy\"]\n",
        "dog_ages = [34, 12]\n",
        "\n",
        "# If we have 25000 dogs, this list gets really large. So, if I need to get the age of Dog named \"Billy\", we will have to:\n",
        "# 1. Find the index of \"Billy\" in dog_names list which will take some time\n",
        "# 2. Then access that index in dog_ages list.\n",
        "# It gets worse to manage if we have a lot of attributes for each dog and we want to add or delete some of the dogs.\n",
        "# fo deletion, we will have to find the index and then go to each list of attribute and delete that index.\n",
        "\n",
        "# This is where Object Oriented Programming makes things like this easier and we reuse all the methods and attributes for all objects.\n"
      ]
    },
    {
      "cell_type": "markdown",
      "metadata": {
        "id": "iWWXqLZ1mlZL"
      },
      "source": [
        "Let's create more complex classes for a school system"
      ]
    },
    {
      "cell_type": "code",
      "execution_count": null,
      "metadata": {
        "id": "OEW8k6nDmlZL",
        "outputId": "7394debc-ec37-4b33-f20b-e46ab7340569"
      },
      "outputs": [
        {
          "name": "stdout",
          "output_type": "stream",
          "text": [
            "Timmy\n",
            "85.0\n",
            "False\n",
            "85.0\n"
          ]
        }
      ],
      "source": [
        "class Student:\n",
        "    def __init__(self, name, age, grade):\n",
        "        self.name = name\n",
        "        self.age = age\n",
        "        self.grade = grade # 0-100\n",
        "\n",
        "    def get_grade(self):\n",
        "        return self.grade\n",
        "\n",
        "class Course:\n",
        "    def __init__(self, name, max_students):\n",
        "        self.name = name\n",
        "        self.max_students = max_students\n",
        "        self.students = [] # Notice that this attribute doesn't get assigned during initialization by passing the arguments in object creation\n",
        "\n",
        "    def add_student(self, student):\n",
        "        if len(self.students) < self.max_students:\n",
        "            self.students.append(student)\n",
        "            return True\n",
        "        return False # Returning boolean so that we can have a program later to do something if course is already full.\n",
        "\n",
        "    def get_average_grade(self): # Method to get average grade of the course\n",
        "        value = 0\n",
        "        for student in self.students:\n",
        "            value += student.get_grade() # We could have also called student.grade but calling method so that it dosn't break in case attribute name is changed.\n",
        "        return value/len(self.students)\n",
        "\n",
        "# Creating some Student objects\n",
        "s1 = Student(\"Timmy\", 19, 95)\n",
        "s2 = Student(\"Billy\", 19, 75)\n",
        "s3 = Student(\"Emily\", 19, 65)\n",
        "\n",
        "# Create a Course object with max_students = 2, so that we can also show add_student failing\n",
        "course = Course(\"Science\", 2)\n",
        "course.add_student(s1)\n",
        "course.add_student(s2)\n",
        "\n",
        "print(course.students[0].name) # Just checking if everything worked fine\n",
        "\n",
        "print(course.get_average_grade()) # --> 85.0\n",
        "\n",
        "# if we try to add the 3rd student, add_student returns False and average grade doesn't change, as expected because we had set max_students = 2 for this course.\n",
        "print(course.add_student(s3))\n",
        "print(course.get_average_grade()) # --> 85.0"
      ]
    },
    {
      "cell_type": "markdown",
      "metadata": {
        "id": "jfHitI4AmlZM"
      },
      "source": [
        "#Inheritance"
      ]
    },
    {
      "cell_type": "code",
      "execution_count": null,
      "metadata": {
        "id": "FS5-ORpGmlZM"
      },
      "outputs": [],
      "source": [
        "# Let's say we have two classes Dog and Cat. Only difference is their Speak() method as below\n",
        "\n",
        "# There must be a way so that we don't have to re-write the rest of the class definition twice.\n",
        "\n",
        "# This is where Inheritance comes in where all the classes inherit an upper level class with common definitions and then we only need to define the different parts in individual classes.\n",
        "\n",
        "class Dog:\n",
        "    def __init__(self, name, age):\n",
        "        self.name = name\n",
        "        self.age = age\n",
        "\n",
        "    def speak(self):\n",
        "        print(\"bark\")\n",
        "\n",
        "class Cat:\n",
        "    def __init__(self, name, age):\n",
        "        self.name = name\n",
        "        self.age = age\n",
        "\n",
        "    def speak(self):\n",
        "        print(\"meow\")"
      ]
    },
    {
      "cell_type": "code",
      "execution_count": null,
      "metadata": {
        "id": "L5iweaEKmlZM",
        "outputId": "aed7f3fb-5c82-40c7-ea57-99f338634db8"
      },
      "outputs": [
        {
          "name": "stdout",
          "output_type": "stream",
          "text": [
            "I am Timmy and I am 19 years old\n",
            "I am Billy and I am 34 years old\n",
            "I am Emily and I am 25 years old\n",
            "I don't know how to speak\n",
            "meow\n",
            "bark\n",
            "I don't know how to speak\n"
          ]
        }
      ],
      "source": [
        "# So, instead of repeating the class definitions, we use Inheritance as below.\n",
        "\n",
        "# Here, Pet is called \"Parent\" class and  Cat, Dog, and Fish are called \"Child\" classes or \"Derived\" classes\n",
        "\n",
        "class Pet: # Upper class with common definitions\n",
        "    def __init__(self, name, age):\n",
        "        self.name = name\n",
        "        self.age = age\n",
        "\n",
        "    def show(self):\n",
        "        print(f\"I am {self.name} and I am {self.age} years old\")\n",
        "\n",
        "    def speak(self): # We dont have to define this. But if we define this, Cat and Dog classes override it. Also, if any child class doesn't define this method (for example, Fish), it can use this method to speak.\n",
        "        print(\"I don't know how to speak\")\n",
        "\n",
        "class Dog(Pet): # --> Dog class inherits all the methods and attributes from Pet class\n",
        "    def speak(self):\n",
        "        print(\"bark\")\n",
        "\n",
        "class Cat(Pet): # --> Cat class inherits all the methods and attributes from Pet class\n",
        "    def speak(self):\n",
        "        print(\"meow\")\n",
        "\n",
        "class Fish(Pet):\n",
        "    pass\n",
        "\n",
        "p = Pet(\"Timmy\", 19)\n",
        "p.show()\n",
        "\n",
        "c = Cat(\"Billy\", 34) # It uses the __init__ method of Pet class\n",
        "c.show() # Cat object inherits show method from Pet class, even though we didn't define it in Cat class\n",
        "\n",
        "d = Dog(\"Emily\", 25)\n",
        "d.show()\n",
        "\n",
        "# Notice that speak methods for Cat and Dog prints different outcomes based on their class because we defined different speak methods for each class\n",
        "p.speak()\n",
        "c.speak()\n",
        "d.speak()\n",
        "\n",
        "# Notice Fish class object takes the speak method from Pet class\n",
        "f = Fish(\"Bubbles\", 10)\n",
        "f.speak()"
      ]
    },
    {
      "cell_type": "markdown",
      "metadata": {
        "id": "pLXFH-p2mlZN"
      },
      "source": [
        "Let's say we want to have more attributes in the Child class. It can be done as below"
      ]
    },
    {
      "cell_type": "code",
      "execution_count": null,
      "metadata": {
        "id": "1_HgpmdUmlZN",
        "outputId": "c7fde819-b81b-4d92-ff4e-d82257d8a5f3"
      },
      "outputs": [
        {
          "name": "stdout",
          "output_type": "stream",
          "text": [
            "I am Billy and I am 34 years old and I am brown color\n"
          ]
        }
      ],
      "source": [
        "class Cat(Pet):\n",
        "    def __init__(self, name, age, color):\n",
        "        super().__init__(name,age) # super() references the Parent class and then we call it's __init__ method so that we don't redefine how to handle name and age values.\n",
        "        # Parent class could be calling some function or database to set the attributes, so we don't want to change that here, unless needed.\n",
        "        self.color = color\n",
        "\n",
        "    def show(self):\n",
        "        print(f\"I am {self.name} and I am {self.age} years old and I am {self.color} color\")\n",
        "\n",
        "    def speak(self):\n",
        "        print(\"meow\")\n",
        "\n",
        "c = Cat(\"Billy\", 34, \"brown\")\n",
        "c.show()\n",
        ""
      ]
    },
    {
      "cell_type": "markdown",
      "metadata": {
        "id": "9oq-D2fhmlZQ"
      },
      "source": [
        "#Class Attributes"
      ]
    },
    {
      "cell_type": "code",
      "execution_count": null,
      "metadata": {
        "id": "gejyef7ImlZQ",
        "outputId": "285eaeea-6d9b-4322-a162-cd0ad0560ece"
      },
      "outputs": [
        {
          "name": "stdout",
          "output_type": "stream",
          "text": [
            "1\n",
            "2\n",
            "2\n",
            "2\n",
            "8\n",
            "7\n",
            "8\n"
          ]
        }
      ],
      "source": [
        "# Class attributes are defined outside of it's methods. These attributes are not tied to an instance and it's value is common to all instances.\n",
        "# Good for defining constants or some value that we want to track across all instances\n",
        "class Person:\n",
        "    number_of_people = 0\n",
        "\n",
        "    def __init__(self, name) -> None:\n",
        "        self.name = name\n",
        "        Person.number_of_people += 1\n",
        "\n",
        "p1 = Person(\"tim\")\n",
        "print(Person.number_of_people) # 1\n",
        "p2 = Person(\"jill\")\n",
        "print(Person.number_of_people) # 2\n",
        "\n",
        "# As class attributes are common to all instances, we can write:\n",
        "print(p1.number_of_people) # 2\n",
        "# We can also directly call it as below since it's not tied to any instance\n",
        "print(Person.number_of_people) # 2\n",
        "\n",
        "# We can also change it using Person class and it will be the same for all instances\n",
        "Person.number_of_people = 8\n",
        "print(p1.number_of_people) # 8\n",
        "\n",
        "# Tried changing the value with one of the objects. It only modifies it for that object. Not very useful for this purpose.\n",
        "# We could have used regular attributes if we want to have object specific values.\n",
        "p1.number_of_people = 7\n",
        "print(p1.number_of_people) # 7\n",
        "print(p2.number_of_people) # 8"
      ]
    },
    {
      "cell_type": "markdown",
      "metadata": {
        "id": "oG5ehLxNmlZQ"
      },
      "source": [
        "#Class Methods"
      ]
    },
    {
      "cell_type": "code",
      "execution_count": null,
      "metadata": {
        "id": "wXWrXoPUmlZQ",
        "outputId": "7b0e6218-91fd-443d-cb84-89c09542c2c2"
      },
      "outputs": [
        {
          "name": "stdout",
          "output_type": "stream",
          "text": [
            "1\n",
            "2\n"
          ]
        }
      ],
      "source": [
        "class Person:\n",
        "    number_of_people = 0\n",
        "\n",
        "    def __init__(self,name):\n",
        "        self.name = name\n",
        "        Person.add_person()\n",
        "\n",
        "    # This is class method. Notice \"cls\" instead of \"self\" in the argument. We also need to add a decorator \"classmethod\" to indicate this\n",
        "    # These methods are not associated with an object but the class\n",
        "    # So, they dont have access to any of the instance attributes. They only have access to class attributes\n",
        "    @classmethod\n",
        "    def number_of_people_(cls):\n",
        "        return cls.number_of_people\n",
        "\n",
        "    @classmethod\n",
        "    def add_person(cls):\n",
        "        Person.number_of_people += 1\n",
        "\n",
        "p1 = Person(\"tim\")\n",
        "print(Person.number_of_people) # 1\n",
        "p2 = Person(\"jill\")\n",
        "print(Person.number_of_people) # 2"
      ]
    },
    {
      "cell_type": "markdown",
      "metadata": {
        "id": "CpMM8MzSmlZS"
      },
      "source": [
        "#Static Methods"
      ]
    },
    {
      "cell_type": "code",
      "execution_count": null,
      "metadata": {
        "id": "EPv-MYi_mlZT",
        "outputId": "0cb88804-3607-405b-8afd-11dd446df20c"
      },
      "outputs": [
        {
          "name": "stdout",
          "output_type": "stream",
          "text": [
            "10\n",
            "run\n"
          ]
        }
      ],
      "source": [
        "# Instead of defining methods without a class, define those within a class for better organization\n",
        "# Similar to math.sqrt so you can do import math and then call math.sqrt\n",
        "# We want to be able to call these methods without creating an instance of math class.\n",
        "\n",
        "# These methods dont have access to any attributes and they can't change any attributes either. Notice no \"self\" or \"cls\"\n",
        "# in the argument. Also, these are indicated by a decorator \"staticmethod\"\n",
        "\n",
        "class Math:\n",
        "    @staticmethod\n",
        "    def add5(x):\n",
        "        return x + 5\n",
        "\n",
        "    @staticmethod\n",
        "    def pr():\n",
        "        print(\"run\")\n",
        "\n",
        "# Notice that no object of Math class was created\n",
        "print(Math.add5(5))\n",
        "Math.pr()\n",
        "\n",
        "\n"
      ]
    },
    {
      "cell_type": "markdown",
      "metadata": {
        "id": "hFlJrwfpmlZT"
      },
      "source": [
        "#Encapsulation"
      ]
    },
    {
      "cell_type": "markdown",
      "source": [
        "Read Only Attributes"
      ],
      "metadata": {
        "id": "A_1n0eeinGIi"
      }
    },
    {
      "cell_type": "code",
      "execution_count": null,
      "metadata": {
        "id": "p3tQsxVnmlZT",
        "outputId": "c090f898-fba4-4faf-dfb1-2c070520518b"
      },
      "outputs": [
        {
          "name": "stdout",
          "output_type": "stream",
          "text": [
            "Jill\n"
          ]
        },
        {
          "ename": "AttributeError",
          "evalue": "can't set attribute 'read_only_name'",
          "output_type": "error",
          "traceback": [
            "\u001b[0;31m---------------------------------------------------------------------------\u001b[0m",
            "\u001b[0;31mAttributeError\u001b[0m                            Traceback (most recent call last)",
            "Cell \u001b[0;32mIn[5], line 15\u001b[0m\n\u001b[1;32m     13\u001b[0m p1 \u001b[38;5;241m=\u001b[39m Person(\u001b[38;5;124m\"\u001b[39m\u001b[38;5;124mJill\u001b[39m\u001b[38;5;124m\"\u001b[39m)\n\u001b[1;32m     14\u001b[0m \u001b[38;5;28mprint\u001b[39m(p1\u001b[38;5;241m.\u001b[39mname)\n\u001b[0;32m---> 15\u001b[0m \u001b[43mp1\u001b[49m\u001b[38;5;241;43m.\u001b[39;49m\u001b[43mread_only_name\u001b[49m \u001b[38;5;241m=\u001b[39m \u001b[38;5;124m\"\u001b[39m\u001b[38;5;124mBill\u001b[39m\u001b[38;5;124m\"\u001b[39m\n",
            "\u001b[0;31mAttributeError\u001b[0m: can't set attribute 'read_only_name'"
          ]
        }
      ],
      "source": [
        "# Let's say we don't want the user to be able to change the name of the Person once the object is created\n",
        "# This is called Encapsulation, i.e., limiting the access to certain attributes\n",
        "\n",
        "# We will do this in multiple steps so that we understand each part of it.\n",
        "\n",
        "class Person:\n",
        "    def __init__(self,name):\n",
        "        self.name = name\n",
        "\n",
        "    @property\n",
        "    # property = Read-Only Attribute\n",
        "    def read_only_name(self):\n",
        "        return self.name\n",
        "\n",
        "p1 = Person(\"Jill\")\n",
        "print(p1.name)\n",
        "p1.read_only_name = \"Bill\" # --> Throws error because it's a read only attribute because of property decorator\n"
      ]
    },
    {
      "cell_type": "code",
      "execution_count": null,
      "metadata": {
        "id": "uAtH6VnYmlZT",
        "outputId": "ea87bc6a-8a33-40e3-f271-b4db1942b997"
      },
      "outputs": [
        {
          "name": "stdout",
          "output_type": "stream",
          "text": [
            "Bill\n"
          ]
        }
      ],
      "source": [
        "# But we can still change the name of the person\n",
        "p1.name = \"Bill\"\n",
        "print(p1.name)"
      ]
    },
    {
      "cell_type": "code",
      "execution_count": null,
      "metadata": {
        "id": "kEiQpxngmlZW",
        "outputId": "634ef839-1d75-436b-8f12-0fff2fb2ee7e"
      },
      "outputs": [
        {
          "name": "stdout",
          "output_type": "stream",
          "text": [
            "you are trying to get the name\n",
            "Jill\n",
            "{'_name': 'Jill'}\n",
            "Jill\n",
            "you are trying to get the name\n",
            "Bill\n"
          ]
        },
        {
          "ename": "AttributeError",
          "evalue": "can't set attribute 'name'",
          "output_type": "error",
          "traceback": [
            "\u001b[0;31m---------------------------------------------------------------------------\u001b[0m",
            "\u001b[0;31mAttributeError\u001b[0m                            Traceback (most recent call last)",
            "Cell \u001b[0;32mIn[23], line 23\u001b[0m\n\u001b[1;32m     21\u001b[0m p1\u001b[38;5;241m.\u001b[39m_name \u001b[38;5;241m=\u001b[39m \u001b[38;5;124m\"\u001b[39m\u001b[38;5;124mBill\u001b[39m\u001b[38;5;124m\"\u001b[39m\n\u001b[1;32m     22\u001b[0m \u001b[38;5;28mprint\u001b[39m(p1\u001b[38;5;241m.\u001b[39mname) \u001b[38;5;66;03m# User was able to change the name\u001b[39;00m\n\u001b[0;32m---> 23\u001b[0m \u001b[43mp1\u001b[49m\u001b[38;5;241;43m.\u001b[39;49m\u001b[43mname\u001b[49m \u001b[38;5;241m=\u001b[39m \u001b[38;5;124m\"\u001b[39m\u001b[38;5;124mBill\u001b[39m\u001b[38;5;124m\"\u001b[39m \u001b[38;5;66;03m# Throws an error\u001b[39;00m\n",
            "\u001b[0;31mAttributeError\u001b[0m: can't set attribute 'name'"
          ]
        }
      ],
      "source": [
        "# Let's change the property name to \"name\" and make the object attribute \"_name\"\n",
        "# This will make \"name\" read-only property\n",
        "\n",
        "# By convention, adding single underscore as prefix indicates that it is non-public variable.\n",
        "# But it's just a convention and not enforced by python.\n",
        "\n",
        "class Person:\n",
        "    def __init__(self,name):\n",
        "        self._name = name\n",
        "\n",
        "    @property\n",
        "    def name(self):\n",
        "        print(\"you are trying to get the name\")\n",
        "        return self._name\n",
        "\n",
        "p1 = Person(\"Jill\")\n",
        "print(p1.name)\n",
        "\n",
        "print(vars(p1)) # Notice that \"_name\" is still accessible to user\n",
        "print(p1._name) # User can access it. python executes the property function \"name\". See the added printout.\n",
        "p1._name = \"Bill\"\n",
        "print(p1.name) # User was able to change the name\n",
        "p1.name = \"Bill\" # Throws an error"
      ]
    },
    {
      "cell_type": "code",
      "execution_count": null,
      "metadata": {
        "id": "dSopQ1_umlZX",
        "outputId": "ce35d069-b2fc-4a26-d795-77557e8e6638"
      },
      "outputs": [
        {
          "name": "stdout",
          "output_type": "stream",
          "text": [
            "Jill\n",
            "{'_Person__name': 'Jill'}\n"
          ]
        },
        {
          "ename": "AttributeError",
          "evalue": "'Person' object has no attribute '__name'",
          "output_type": "error",
          "traceback": [
            "\u001b[0;31m---------------------------------------------------------------------------\u001b[0m",
            "\u001b[0;31mAttributeError\u001b[0m                            Traceback (most recent call last)",
            "Cell \u001b[0;32mIn[21], line 16\u001b[0m\n\u001b[1;32m     13\u001b[0m \u001b[38;5;28mprint\u001b[39m(p1\u001b[38;5;241m.\u001b[39mname)\n\u001b[1;32m     15\u001b[0m \u001b[38;5;28mprint\u001b[39m(\u001b[38;5;28mvars\u001b[39m(p1)) \u001b[38;5;66;03m# Notice that variable name is changed by prefixing the class name. This is called \"name mangling\" which is triggered by \"__\" prefix in python \u001b[39;00m\n\u001b[0;32m---> 16\u001b[0m \u001b[38;5;28mprint\u001b[39m(\u001b[43mp1\u001b[49m\u001b[38;5;241;43m.\u001b[39;49m\u001b[43m__name\u001b[49m) \u001b[38;5;66;03m# So this attribute doesn't exist anymore for users and throws an error\u001b[39;00m\n",
            "\u001b[0;31mAttributeError\u001b[0m: 'Person' object has no attribute '__name'"
          ]
        }
      ],
      "source": [
        "# Let's make the object attribute \"_name\" private by adding another \"_\" in front of it.\n",
        "# This will remove access to object attribute and user will only have access to read-only property\n",
        "\n",
        "class Person:\n",
        "    def __init__(self,name):\n",
        "        self.__name = name\n",
        "\n",
        "    @property\n",
        "    def name(self):\n",
        "        return self.__name\n",
        "\n",
        "p1 = Person(\"Jill\")\n",
        "print(p1.name)\n",
        "\n",
        "print(vars(p1)) # Notice that variable name is changed by prefixing the class name. This is called \"name mangling\" which is triggered by \"__\" prefix in python\n",
        "print(p1.__name) # So this attribute doesn't exist anymore for users and throws an error"
      ]
    },
    {
      "cell_type": "code",
      "execution_count": null,
      "metadata": {
        "id": "yz_S9a1YmlZX",
        "outputId": "efdc2f97-b408-4e64-a7eb-b216d8a7a5fd"
      },
      "outputs": [
        {
          "name": "stdout",
          "output_type": "stream",
          "text": [
            "Bill\n"
          ]
        }
      ],
      "source": [
        "# SideNote:\n",
        "# I was still able to change the name by using the new name of the attribute. It's a bit inconvenient but not foolproof.\n",
        "# However, this new name doesn't show up in the IDE suggestions if we write \"p1.\"\n",
        "# So, it's slightly protected\n",
        "p1._Person__name = \"Bill\"\n",
        "print(p1.name)\n"
      ]
    },
    {
      "cell_type": "code",
      "execution_count": null,
      "metadata": {
        "id": "xB_qhIVLmlZY",
        "outputId": "c502d9a1-57d4-48f1-d242-84407b330516"
      },
      "outputs": [
        {
          "name": "stdout",
          "output_type": "stream",
          "text": [
            "Jill\n",
            "setting new name\n",
            "Bill\n",
            "setting new name\n",
            "Bill\n"
          ]
        }
      ],
      "source": [
        "# If we want to allow changing the name, we can use setter decorator\n",
        "# Having a setter function allows you to control what kind of value is allowed.\n",
        "# You can just add those checks with if conditions.\n",
        "\n",
        "class Person:\n",
        "    def __init__(self,name):\n",
        "        self.__name = name\n",
        "\n",
        "    @property\n",
        "    def name(self):\n",
        "        return self.__name\n",
        "\n",
        "    @name.setter\n",
        "    def name(self,value):\n",
        "        print(\"setting new name\")\n",
        "        if(len(value) < 5):\n",
        "            self.__name = value\n",
        "        #else: # Raise the exception for invalid values\n",
        "        #    raise Exception(\"name is too long\")\n",
        "\n",
        "\n",
        "p1 = Person(\"Jill\")\n",
        "print(p1.name)\n",
        "p1.name = 'Bill' # No error thrown and name is set to Bill. In this case, python executes the setter function.\n",
        "print(p1.name)\n",
        "p1.name = \"Jonathan\"\n",
        "print(p1.name) # Name is still Bill because of the length condition"
      ]
    },
    {
      "cell_type": "code",
      "execution_count": null,
      "metadata": {
        "id": "5WmSGv85mlZY",
        "outputId": "ec9383dd-d784-466d-f46c-641244699414"
      },
      "outputs": [
        {
          "name": "stdout",
          "output_type": "stream",
          "text": [
            "Lamp\n",
            "900\n",
            "720.0\n",
            "864.0\n"
          ]
        },
        {
          "ename": "AttributeError",
          "evalue": "can't set attribute 'price'",
          "output_type": "error",
          "traceback": [
            "\u001b[0;31m---------------------------------------------------------------------------\u001b[0m",
            "\u001b[0;31mAttributeError\u001b[0m                            Traceback (most recent call last)",
            "Cell \u001b[0;32mIn[28], line 36\u001b[0m\n\u001b[1;32m     33\u001b[0m item1\u001b[38;5;241m.\u001b[39mapply_increment(\u001b[38;5;241m0.2\u001b[39m)\n\u001b[1;32m     34\u001b[0m \u001b[38;5;28mprint\u001b[39m(item1\u001b[38;5;241m.\u001b[39mprice)\n\u001b[0;32m---> 36\u001b[0m \u001b[43mitem1\u001b[49m\u001b[38;5;241;43m.\u001b[39;49m\u001b[43mprice\u001b[49m \u001b[38;5;241m=\u001b[39m \u001b[38;5;241m1000\u001b[39m\n",
            "\u001b[0;31mAttributeError\u001b[0m: can't set attribute 'price'"
          ]
        }
      ],
      "source": [
        "# Another example of Encapsulation where we let users change values through some functions only\n",
        "\n",
        "class Item:\n",
        "    def __init__(self,name,price):\n",
        "        self.__name = name\n",
        "        self.__price = price\n",
        "\n",
        "    @property\n",
        "    def price(self):\n",
        "        return self.__price\n",
        "\n",
        "    def apply_increment(self,increment):\n",
        "         self.__price = self.__price * (1 + increment)\n",
        "\n",
        "    def apply_discount(self,discount):\n",
        "         self.__price = self.__price * (1 - discount)\n",
        "\n",
        "    @property\n",
        "    def name(self):\n",
        "        return self.__name\n",
        "\n",
        "    @name.setter\n",
        "    def name(self,value):\n",
        "            self.__name = value\n",
        "\n",
        "item1 = Item(\"Lamp\", 900)\n",
        "print(item1.name)\n",
        "print(item1.price)\n",
        "\n",
        "item1.apply_discount(0.2)\n",
        "print(item1.price)\n",
        "\n",
        "item1.apply_increment(0.2)\n",
        "print(item1.price)\n",
        "\n",
        "item1.price = 1000"
      ]
    },
    {
      "cell_type": "markdown",
      "metadata": {
        "id": "_WW90L5amlZZ"
      },
      "source": [
        "#Abstraction: Hiding the unnecessary information from users"
      ]
    },
    {
      "cell_type": "code",
      "execution_count": null,
      "metadata": {
        "id": "QRw5OZhrmlZa",
        "outputId": "77ad4de9-e2fb-4a64-87c6-44350e819922"
      },
      "outputs": [
        {
          "name": "stdout",
          "output_type": "stream",
          "text": [
            "Lamp\n",
            "900\n",
            "email sent\n"
          ]
        },
        {
          "ename": "AttributeError",
          "evalue": "'Item' object has no attribute '__connect'",
          "output_type": "error",
          "traceback": [
            "\u001b[0;31m---------------------------------------------------------------------------\u001b[0m",
            "\u001b[0;31mAttributeError\u001b[0m                            Traceback (most recent call last)",
            "Cell \u001b[0;32mIn[29], line 47\u001b[0m\n\u001b[1;32m     45\u001b[0m \u001b[38;5;28mprint\u001b[39m(item1\u001b[38;5;241m.\u001b[39mprice)\n\u001b[1;32m     46\u001b[0m item1\u001b[38;5;241m.\u001b[39msend_email()\n\u001b[0;32m---> 47\u001b[0m \u001b[43mitem1\u001b[49m\u001b[38;5;241;43m.\u001b[39;49m\u001b[43m__connect\u001b[49m()\n",
            "\u001b[0;31mAttributeError\u001b[0m: 'Item' object has no attribute '__connect'"
          ]
        }
      ],
      "source": [
        "# Let's say we want to send an email to someone about the item.\n",
        "# For this purpose, we will have multiple internal methods which we dont want to expose to users\n",
        "# So, we add \"__\" prefix in name of those methods to make those private. Then user can;t call those methods\n",
        "\n",
        "class Item:\n",
        "    def __init__(self,name,price):\n",
        "        self.__name = name\n",
        "        self.__price = price\n",
        "\n",
        "    @property\n",
        "    def price(self):\n",
        "        return self.__price\n",
        "\n",
        "    def apply_increment(self,increment):\n",
        "         self.__price = self.__price * (1 + increment)\n",
        "\n",
        "    def apply_discount(self,discount):\n",
        "         self.__price = self.__price * (1 - discount)\n",
        "\n",
        "    @property\n",
        "    def name(self):\n",
        "        return self.__name\n",
        "\n",
        "    @name.setter\n",
        "    def name(self,value):\n",
        "            self.__name = value\n",
        "\n",
        "    def __connect(self):\n",
        "         pass\n",
        "\n",
        "    def __prepare_body(self):\n",
        "         pass\n",
        "\n",
        "    def __send(self):\n",
        "         pass\n",
        "\n",
        "    def send_email(self):\n",
        "         self.__connect()\n",
        "         self.__prepare_body()\n",
        "         self.__send()\n",
        "         print(\"email sent\")\n",
        "\n",
        "item1 = Item(\"Lamp\", 900)\n",
        "print(item1.name)\n",
        "print(item1.price)\n",
        "item1.send_email()\n",
        "item1.__connect()\n",
        ""
      ]
    },
    {
      "cell_type": "markdown",
      "source": [
        "#Polymorphism: Many Forms"
      ],
      "metadata": {
        "id": "l2rCErRGnqY6"
      }
    },
    {
      "cell_type": "code",
      "execution_count": 2,
      "metadata": {
        "id": "_hJpfAfzmlZb",
        "outputId": "d4e3b022-36c2-4671-8ba0-10e69d56e66b",
        "colab": {
          "base_uri": "https://localhost:8080/"
        }
      },
      "outputs": [
        {
          "output_type": "stream",
          "name": "stdout",
          "text": [
            "3\n",
            "2\n"
          ]
        }
      ],
      "source": [
        "#Example: len function\n",
        "# A single entity knows how to properly handle different kind of objects\n",
        "\n",
        "name = 'Jim'\n",
        "print(len(name)) # --> 3: number of characters\n",
        "\n",
        "mylist = [\"some\",\"name\"]\n",
        "print(len(mylist)) # --> 2: number of elements"
      ]
    },
    {
      "cell_type": "code",
      "source": [
        "# Another example is from Inheritance.\n",
        "# We used show method for Dog and Cat, even though it is not defined for them. It is defined for Pet class."
      ],
      "metadata": {
        "id": "2ivxWWgioV1w"
      },
      "execution_count": null,
      "outputs": []
    }
  ],
  "metadata": {
    "kernelspec": {
      "display_name": "Python 3",
      "language": "python",
      "name": "python3"
    },
    "language_info": {
      "codemirror_mode": {
        "name": "ipython",
        "version": 3
      },
      "file_extension": ".py",
      "mimetype": "text/x-python",
      "name": "python",
      "nbconvert_exporter": "python",
      "pygments_lexer": "ipython3",
      "version": "3.10.13"
    },
    "colab": {
      "provenance": [],
      "toc_visible": true
    }
  },
  "nbformat": 4,
  "nbformat_minor": 0
}